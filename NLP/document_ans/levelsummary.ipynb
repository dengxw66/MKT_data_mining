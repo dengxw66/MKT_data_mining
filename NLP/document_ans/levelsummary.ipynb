{
 "cells": [
  {
   "cell_type": "code",
   "execution_count": 1,
   "metadata": {},
   "outputs": [
    {
     "name": "stderr",
     "output_type": "stream",
     "text": [
      "/home/dxw/anaconda3/envs/agent/lib/python3.8/site-packages/tqdm/auto.py:21: TqdmWarning: IProgress not found. Please update jupyter and ipywidgets. See https://ipywidgets.readthedocs.io/en/stable/user_install.html\n",
      "  from .autonotebook import tqdm as notebook_tqdm\n"
     ]
    }
   ],
   "source": [
    "\n",
    "# import\n",
    "from langchain.embeddings.sentence_transformer import SentenceTransformerEmbeddings\n",
    "from langchain.text_splitter import CharacterTextSplitter\n",
    "from langchain.vectorstores import Chroma\n",
    "from langchain.document_loaders import TextLoader\n",
    "from langchain.embeddings import HuggingFaceEmbeddings\n",
    "\n",
    "from langchain import LLMChain\n",
    "from langchain.chains.mapreduce import MapReduceChain\n",
    "from langchain.prompts import PromptTemplate\n",
    "from langchain.llms.base import LLM\n",
    "from transformers import AutoTokenizer, AutoModel, AutoConfig\n",
    "from typing import Any, Dict, List, Mapping, Optional, Tuple, Union\n",
    "from torch.mps import empty_cache\n",
    "import torch\n",
    "from langchain.chains import RetrievalQA\n",
    "\n",
    "from langchain.document_loaders import UnstructuredFileLoader\n",
    "from langchain.chains.summarize import load_summarize_chain\n",
    "from langchain.text_splitter import RecursiveCharacterTextSplitter\n",
    "from langchain import OpenAI\n",
    "from langchain.docstore.document import Document  # Ensure this is the correct import for your document class\n"
   ]
  },
  {
   "cell_type": "code",
   "execution_count": 2,
   "metadata": {},
   "outputs": [],
   "source": [
    "class GLM(LLM):\n",
    "    max_token: int = 2048\n",
    "    temperature: float = 0.8\n",
    "    top_p = 0.9\n",
    "    tokenizer: object = None\n",
    "    model: object = None\n",
    "    history_len: int = 1024\n",
    "    \n",
    "    def __init__(self):\n",
    "        super().__init__()\n",
    "        \n",
    "    @property\n",
    "    def _llm_type(self) -> str:\n",
    "        return \"GLM\"\n",
    "            \n",
    "    def load_model(self, llm_device=\"gpu\",model_name_or_path=None):\n",
    "        model_config = AutoConfig.from_pretrained(model_name_or_path, trust_remote_code=True)\n",
    "        self.tokenizer = AutoTokenizer.from_pretrained(model_name_or_path,trust_remote_code=True)\n",
    "        self.model = AutoModel.from_pretrained(model_name_or_path, config=model_config, trust_remote_code=True, device='cuda:5').half() # GLM模块装在gpu: 6\n",
    "\n",
    "\n",
    "\n",
    "    def _call(self,prompt:str,history:List[str] = [],stop: Optional[List[str]] = None):\n",
    "        response, _ = self.model.chat(\n",
    "                    self.tokenizer,prompt,\n",
    "                    history=history[-self.history_len:] if self.history_len > 0 else [],\n",
    "                    max_length=self.max_token,temperature=self.temperature,\n",
    "                    top_p=self.top_p)\n",
    "        return response"
   ]
  },
  {
   "cell_type": "code",
   "execution_count": 3,
   "metadata": {},
   "outputs": [
    {
     "name": "stderr",
     "output_type": "stream",
     "text": [
      "2024-06-06 10:58:15.389276: I tensorflow/core/platform/cpu_feature_guard.cc:193] This TensorFlow binary is optimized with oneAPI Deep Neural Network Library (oneDNN) to use the following CPU instructions in performance-critical operations:  AVX2 AVX512F AVX512_VNNI FMA\n",
      "To enable them in other operations, rebuild TensorFlow with the appropriate compiler flags.\n",
      "2024-06-06 10:58:15.541544: I tensorflow/core/util/port.cc:104] oneDNN custom operations are on. You may see slightly different numerical results due to floating-point round-off errors from different computation orders. To turn them off, set the environment variable `TF_ENABLE_ONEDNN_OPTS=0`.\n",
      "2024-06-06 10:58:16.118477: W tensorflow/compiler/xla/stream_executor/platform/default/dso_loader.cc:64] Could not load dynamic library 'libnvinfer.so.7'; dlerror: libnvinfer.so.7: cannot open shared object file: No such file or directory; LD_LIBRARY_PATH: /usr/local/cuda/lib64\n",
      "2024-06-06 10:58:16.118541: W tensorflow/compiler/xla/stream_executor/platform/default/dso_loader.cc:64] Could not load dynamic library 'libnvinfer_plugin.so.7'; dlerror: libnvinfer_plugin.so.7: cannot open shared object file: No such file or directory; LD_LIBRARY_PATH: /usr/local/cuda/lib64\n",
      "2024-06-06 10:58:16.118547: W tensorflow/compiler/tf2tensorrt/utils/py_utils.cc:38] TF-TRT Warning: Cannot dlopen some TensorRT libraries. If you would like to use Nvidia GPU with TensorRT, please make sure the missing libraries mentioned above are installed properly.\n",
      "Loading checkpoint shards: 100%|██████████| 7/7 [00:10<00:00,  1.51s/it]\n"
     ]
    }
   ],
   "source": [
    "import sys\n",
    "modelpath = \"/data1/dxw_data/llm/chatglm3-6b-128k\"\n",
    "sys.path.append(modelpath)\n",
    "llm = GLM()\n",
    "llm.load_model(model_name_or_path = modelpath)\n",
    "#---------------------------至此, 成功加载模型"
   ]
  },
  {
   "cell_type": "code",
   "execution_count": null,
   "metadata": {},
   "outputs": [],
   "source": [
    "# ----------------------------使用RAG利用数据库检索增强------------------------ #"
   ]
  },
  {
   "cell_type": "code",
   "execution_count": 4,
   "metadata": {},
   "outputs": [
    {
     "name": "stderr",
     "output_type": "stream",
     "text": [
      "No sentence-transformers model found with name /data1/dxw_data/llm/text2vec-large-chinese. Creating a new one with MEAN pooling.\n"
     ]
    }
   ],
   "source": [
    "import os\n",
    "from langchain.docstore.document import Document  # Ensure this is the correct import for your document class\n",
    "# Create prompt template\n",
    "prompt_template = \"\"\"请总结用户的评论有哪些主题关键词，请直接输出关键词:\n",
    "\n",
    "\n",
    "TEXT:\n",
    "{text}\n",
    "\n",
    "\"\"\"\n",
    "PROMPT = PromptTemplate(template=prompt_template, input_variables=[\"text\"])\n",
    "\n",
    "# Load the summarization chain\n",
    "# chain = load_summarize_chain(llm, chain_type=\"stuff\", return_intermediate_steps=True, map_prompt=PROMPT, combine_prompt=PROMPT)\n",
    "chain = load_summarize_chain(llm, chain_type=\"stuff\", prompt=PROMPT)\n",
    "\n",
    "# Initialize the text splitter\n",
    "text_splitter = CharacterTextSplitter(chunk_size=100, chunk_overlap=0)\n",
    "\n",
    "# Create the embedding function\n",
    "model_kwargs = {'device': 'cuda:6'}\n",
    "embedding_function = HuggingFaceEmbeddings(model_name='/data1/dxw_data/llm/text2vec-large-chinese', model_kwargs=model_kwargs)\n",
    "\n",
    "# Directory containing the text files\n",
    "input_dir = '/data1/dxw_data/llm/MKT_data_mining/DB/document_ans/input.txt'\n",
    "output_prefix = 'output_'"
   ]
  },
  {
   "cell_type": "code",
   "execution_count": 6,
   "metadata": {},
   "outputs": [
    {
     "name": "stdout",
     "output_type": "stream",
     "text": [
      "file_path:  /data1/dxw_data/llm/mkt_llm/mkt_medicine/data2/output_1.txt\n",
      "{'output_text': '关键词：脑部病灶、检查结果、化疗、靶向四期、脑部病灶反复出现、放疗、伽马刀、质子放疗、肺部放疗、担心肺炎、呕吐、严重症状。'}\n",
      "file_path:  /data1/dxw_data/llm/mkt_llm/mkt_medicine/data2/output_2.txt\n",
      "{'output_text': '关键词：\\n1. 生命\\n2. 过程\\n3. 经历\\n4. 珍惜时间\\n5. 成就更好的自己\\n6. 晨光\\n7. 期待\\n8. 步履不停\\n9. 精彩\\n10. 充实\\n11. 高考\\n12. 基因突变\\n13. 治疗效果\\n14. 化学药物\\n15. 副作用\\n16. 皮疹\\n17. 保持皮肤清洁\\n18. 勤洗澡\\n19. 换衣\\n20. 皮炎平\\n21. 炉甘石洗剂\\n22. 氯雷他定\\n23. 抓挠\\n24. 感染\\n25. 碘伏\\n26. 红霉素\\n27. 百多邦\\n28. 美满霉素\\n29. 饮食清淡\\n30. 麻辣食品'}\n",
      "file_path:  /data1/dxw_data/llm/mkt_llm/mkt_medicine/data2/output_3.txt\n",
      "{'output_text': '1. 肿瘤诊断\\n2. 生活态度\\n3. 家庭关系\\n4. 心理状态\\n5. 疾病治疗\\n6. 父母关爱\\n7. 生活琐事\\n8. 生活压力\\n9. 家庭责任'}\n",
      "file_path:  /data1/dxw_data/llm/mkt_llm/mkt_medicine/data2/output_4.txt\n",
      "{'output_text': '关键词：\\n\\n1. 互相欣赏\\n2. 争短长\\n3. 沉默\\n4. 口舌之争\\n5. 修养\\n6. 息事宁人\\n7. 成全\\n8. 成年人世界\\n9. 肺部薄层高分辨CT\\n10. 主治医师\\n11. 肿瘤\\n12. 确诊\\n13. 治疗方案\\n14. 专家建议\\n15. 病灶持续缩小\\n16. 阳性结果\\n17. 高兴与悲哀\\n18. 治疗征程\\n19. 肿瘤晚期\\n20. 肺内多发转移\\n21. 骨转移\\n22. 建。'}\n",
      "file_path:  /data1/dxw_data/llm/mkt_llm/mkt_medicine/data2/output_5.txt\n"
     ]
    },
    {
     "name": "stderr",
     "output_type": "stream",
     "text": [
      "Created a chunk of size 578, which is longer than the specified 100\n",
      "Created a chunk of size 145, which is longer than the specified 100\n",
      "Created a chunk of size 777, which is longer than the specified 100\n",
      "Created a chunk of size 168, which is longer than the specified 100\n"
     ]
    },
    {
     "name": "stdout",
     "output_type": "stream",
     "text": [
      "{'output_text': '主题关键词：肿瘤标志物、复查、肺癌、治疗、家族遗传史、碎片时间、医学基础、经验、化疗、眼眶痛、痰培养、咳嗽、出痰、胸部疼痛、睡眠质量、贝伐、阿美替尼、焦虑、晚霞。'}\n",
      "file_path:  /data1/dxw_data/llm/mkt_llm/mkt_medicine/data2/output_6.txt\n"
     ]
    },
    {
     "name": "stderr",
     "output_type": "stream",
     "text": [
      "/home/dxw/anaconda3/envs/agent/lib/python3.8/site-packages/transformers/generation/utils.py:1268: UserWarning: Input length of input_ids is 2176, but `max_length` is set to 2048. This can lead to unexpected behavior. You should consider increasing `max_new_tokens`.\n",
      "  warnings.warn(\n"
     ]
    },
    {
     "name": "stdout",
     "output_type": "stream",
     "text": [
      "{'output_text': ''}\n",
      "file_path:  /data1/dxw_data/llm/mkt_llm/mkt_medicine/data2/output_7.txt\n"
     ]
    },
    {
     "name": "stderr",
     "output_type": "stream",
     "text": [
      "Created a chunk of size 334, which is longer than the specified 100\n",
      "Created a chunk of size 163, which is longer than the specified 100\n"
     ]
    },
    {
     "name": "stdout",
     "output_type": "stream",
     "text": [
      "{'output_text': '1. 民宿客人\\n2. 奇葩客人\\n3. 卫生问题\\n4. 退房\\n5. 扣押金\\n6. 烟味\\n7. 卫生费\\n8. 妈妈健康\\n9. 陪伴\\n10. 睡眠质量\\n11. 行业考试\\n12. 工作对接\\n13. 家庭生活\\n14. 生日庆祝\\n15. 陪伴妈妈\\n16. 就医问题\\n17. 疾病困扰\\n18. 家庭变化\\n19. 生活压力\\n20. 生活态度'}\n",
      "file_path:  /data1/dxw_data/llm/mkt_llm/mkt_medicine/data2/output_8.txt\n"
     ]
    },
    {
     "name": "stderr",
     "output_type": "stream",
     "text": [
      "Created a chunk of size 619, which is longer than the specified 100\n"
     ]
    },
    {
     "name": "stdout",
     "output_type": "stream",
     "text": [
      "{'output_text': '用户的评论主题关键词有：锻炼、快乐、痛苦、病情、咳嗽、饮食、心情、恢复、手术、病理、肾上腺。'}\n",
      "file_path:  /data1/dxw_data/llm/mkt_llm/mkt_medicine/data2/output_9.txt\n"
     ]
    },
    {
     "name": "stderr",
     "output_type": "stream",
     "text": [
      "Created a chunk of size 210, which is longer than the specified 100\n"
     ]
    },
    {
     "name": "stdout",
     "output_type": "stream",
     "text": [
      "{'output_text': '1. 肺穿刺基因结果\\n2. 人生\\n3. 生活\\n4. 肺不张\\n5. 影像检查\\n6. 肺炎\\n7. 核磁\\n8. 乐观心态\\n9. 自我修复\\n10. 美好未来\\n11. 生命经历'}\n",
      "file_path:  /data1/dxw_data/llm/mkt_llm/mkt_medicine/data2/output_10.txt\n",
      "{'output_text': '根据文本的内容，可以总结出以下几个主题关键词：\\n\\n1. 肿瘤分型：肺腺癌\\n2. 肿瘤分期：Ⅳ B期\\n3. 治疗方案：靶向治疗\\n4. 治疗用药：泰瑞沙甲磺酸奥希替尼，安加维地舒单抗，胸腺法新\\n5. 基因突变：egfr21\\n6. 多发骨转移\\n7. 肾上腺转移\\n8. 复查\\n9. 血液指标\\n10. CT检查\\n11. 脑部核磁共振检查\\n12. 放疗建议\\n13. 觅友互助\\n14. 放下执念，接受现实'}\n",
      "file_path:  /data1/dxw_data/llm/mkt_llm/mkt_medicine/data2/output_11.txt\n",
      "{'output_text': '用户评论的主要主题关键词有：手术后疼痛、手术切除位置疼痛、术后治疗、免疫治疗选择、新的一天、勇往直前、希望、活动、土耳其冰激凌。'}\n",
      "file_path:  /data1/dxw_data/llm/mkt_llm/mkt_medicine/data2/output_12.txt\n",
      "{'output_text': '用户的评论主要涉及以下主题关键词：\\n\\n1. 旅行经历：包括宣化、清河站、呼和浩特等地的旅行体验，以及儿童公园、羊肉串、蜜雪冰城等具体景点和事物的描述。\\n2. 疾病经历：涉及肌萎缩侧索硬化症（渐冻症）的描述，包括发病原因、求诊经历、治疗措施和现状。\\n3. 家庭关系：涉及与丈夫和女儿的互动、感谢以及家庭支持的内容。\\n4. 节日祝愿：表达了对超龄儿童六一儿童节的节日祝愿。\\n5. 积极心态：强调保持童心、童真和心态纯真，并分享了自己保持乐观心态的经验。\\n6. 生活感悟：对旅行和生活经历有所感悟，表达了对幸福的理解和追求。'}\n",
      "file_path:  /data1/dxw_data/llm/mkt_llm/mkt_medicine/data2/output_13.txt\n",
      "{'output_text': '主题关键词：\\n\\n1. 疾病：肺癌、胆囊占位、胰腺癌、胆管癌、颅内肿瘤、癌细胞\\n2. 手术：切除手术、开腹手术、ERCP十二指肠镜、病理检查\\n3. 家庭：亲人离世、幼子、娇妻、家庭压力\\n4. 经济：自费医疗、账单、经济负担\\n5. 情绪：悲伤、恐惧、焦虑、无助\\n6. 坚强：坚强、勇敢面对、不倒下\\n7. 希望：希望、攻克癌症、天下无癌'}\n",
      "file_path:  /data1/dxw_data/llm/mkt_llm/mkt_medicine/data2/output_14.txt\n",
      "{'output_text': '关键词:\\n\\n1. 治疗历史\\n2. 肺癌\\n3. 咳嗽\\n4. 治疗方案\\n5. 经济问题\\n6. 核磁共振\\n7. 结节\\n8. 复查\\n9. 医生建议\\n10. 病痛\\n11. 脑部增强核磁共振'}\n",
      "file_path:  /data1/dxw_data/llm/mkt_llm/mkt_medicine/data2/output_15.txt\n",
      "{'output_text': '关键词：身体健康，心态调整，睡眠质量，肺腺癌，化疗方案，费用因素，间质性肺炎，可瑞达，信迪利，晚期肺癌，肺部感染，心脏造影。'}\n",
      "file_path:  /data1/dxw_data/llm/mkt_llm/mkt_medicine/data2/output_16.txt\n"
     ]
    },
    {
     "name": "stderr",
     "output_type": "stream",
     "text": [
      "Created a chunk of size 1050, which is longer than the specified 100\n",
      "Created a chunk of size 135, which is longer than the specified 100\n"
     ]
    },
    {
     "name": "stdout",
     "output_type": "stream",
     "text": [
      "{'output_text': '关键词：感恩、家人、经营、责任、健康、心态、生活、疾病、快乐、夫妻关系。'}\n",
      "file_path:  /data1/dxw_data/llm/mkt_llm/mkt_medicine/data2/output_17.txt\n",
      "{'output_text': '关键词：妈妈，大连，加油，996，升职加薪，考核A，地塞米松，突然不舒服，住院，肺腺癌，手术，基因监测，生活质量，生命长河，命运，春和景明，咳嗽，气管镜活检，低分化肺腺癌，脑部核磁，骨扫描，腹部肾上腺，肝胆，肾彩超，心脏多普勒，甲状腺，颈部血管，淋巴，双下肢动静脉检查，脑部核磁，PET/CT，基因检测，伏美替尼，康莱特，肺炎，咳嗽频次，靶向药，腹泻，皮疹，口腔溃疡，肝肾损伤，增强CT，模糊，后续治疗方案，恶心穿搭，专业运动员，南瓜杂粮粥，小海参，小葱拌豆腐，二米饭，椒盐小河虾，小白菜炖土豆，小米粥，韭菜炒小河虾，猪耳朵豆角丝炒肉，加餐，西瓜，猕猴桃，芒果。'}\n",
      "file_path:  /data1/dxw_data/llm/mkt_llm/mkt_medicine/data2/output_18.txt\n"
     ]
    },
    {
     "name": "stderr",
     "output_type": "stream",
     "text": [
      "Created a chunk of size 976, which is longer than the specified 100\n",
      "Created a chunk of size 245, which is longer than the specified 100\n",
      "Created a chunk of size 190, which is longer than the specified 100\n"
     ]
    },
    {
     "name": "stdout",
     "output_type": "stream",
     "text": [
      "{'output_text': '用户评论的主题关键词包括：手术、手术疼痛、化疗、病情恶化、生活质量差、颈椎压迫、情绪低落。'}\n",
      "file_path:  /data1/dxw_data/llm/mkt_llm/mkt_medicine/data2/output_19.txt\n",
      "{'output_text': '关键词：重庆，报销，奥西，渝快保，药品，耐药，MET基因，非小细胞肺癌，EGFR TKI，基因检测，唑来膦酸钠，贝福替尼，射波刀，营养，医院，医生，面瘫，手术，肿瘤。'}\n",
      "file_path:  /data1/dxw_data/llm/mkt_llm/mkt_medicine/data2/output_20.txt\n",
      "{'output_text': '1. 妈妈的病情和治疗\\n2. 妈妈的活动和费用报销\\n3. 妈妈的不适和我的疲惫\\n4. 妈妈的高强度活动\\n5. 妈妈的健康和养生\\n6. 妈妈的休息和我的期望\\n7. 妈妈的心情和我的感受\\n8. 妈妈的生活和我的工作\\n9. 妈妈的医院治疗和生活\\n10. 妈妈的病情好转和我的希望'}\n",
      "file_path:  /data1/dxw_data/llm/mkt_llm/mkt_medicine/data2/output_21.txt\n"
     ]
    },
    {
     "name": "stderr",
     "output_type": "stream",
     "text": [
      "Created a chunk of size 565, which is longer than the specified 100\n",
      "Created a chunk of size 107, which is longer than the specified 100\n"
     ]
    },
    {
     "name": "stdout",
     "output_type": "stream",
     "text": [
      "{'output_text': '1. 内心稳定\\n2. 生活琐事\\n3. 家庭责任\\n4. 自我认可\\n5. 松弛感\\n6. 他人评价\\n7. 存在感\\n8. 关卡\\n9. 民宿经营\\n10. 照顾老人'}\n",
      "file_path:  /data1/dxw_data/llm/mkt_llm/mkt_medicine/data2/output_22.txt\n",
      "{'output_text': '关键词:\\n\\n1. 肺癌\\n2. 化疗\\n3. 基因检测\\n4. 免疫治疗\\n5. 肿瘤转移\\n6. 疼痛管理\\n7. 护骨针\\n8. 饮食调理\\n9. 临床试验\\n10. 脑部MRI\\n11. 脑转移\\n12. 医生沟通'}\n",
      "file_path:  /data1/dxw_data/llm/mkt_llm/mkt_medicine/data2/output_23.txt\n",
      "{'output_text': '关键词：\\n\\n1. 癌胚抗原\\n2. 神经元特异性烯醇化酶\\n3. 细胞角蛋白19片段\\n4. 鳞状细胞癌抗原\\n5. 胃泌素释放肽前体\\n6. 心电图\\n7. 尿蛋白\\n8. 高血压\\n9. 心脑血管问题\\n10. 左上肺切除手术\\n11. 放疗\\n12. 放射性肺炎\\n13. 咳嗽\\n14. 中医养生\\n15. 小细胞肺癌基因检测'}\n",
      "file_path:  /data1/dxw_data/llm/mkt_llm/mkt_medicine/data2/output_24.txt\n",
      "{'output_text': '1. 晚期癌症\\n2. 恩沙替尼\\n3. 手术机会\\n4. 肿瘤标志物\\n5. 肿瘤扩散\\n6. 化疗方案\\n7. 口腔溃疡\\n8. 升白针\\n9. 升白针副作用\\n10. 化疗副作用\\n11. 治疗方案选择\\n12. 口腔护理\\n13. 癌症疼痛\\n14. 营养支持\\n15. 免疫力增强\\n16. 贵州野生牛粪刺梨\\n17. 康复治疗\\n18. 情绪管理\\n19. 家庭支持\\n20. 疾病预后'}\n",
      "file_path:  /data1/dxw_data/llm/mkt_llm/mkt_medicine/data2/output_25.txt\n",
      "{'output_text': '用户的评论主题关键词有：\\n\\n- 靶向治疗\\n- 喉咙哑\\n- 饥饿过度\\n- 靶向药\\n- 咳嗽\\n- 低烧\\n- 病理报告\\n- 选拔赛\\n- 公平公正\\n- 省里比赛\\n- 电吹风\\n- 信用免押\\n- 扣押金\\n- 医院治疗\\n- 新冠病毒\\n- 生病原因\\n- 睡觉\\n- 睡眠质量\\n- 保健品\\n- 敏感\\n- 安全感\\n- 青春期\\n- 学习时间'}\n",
      "file_path:  /data1/dxw_data/llm/mkt_llm/mkt_medicine/data2/output_26.txt\n"
     ]
    },
    {
     "name": "stderr",
     "output_type": "stream",
     "text": [
      "Created a chunk of size 187, which is longer than the specified 100\n",
      "Created a chunk of size 101, which is longer than the specified 100\n"
     ]
    },
    {
     "name": "stdout",
     "output_type": "stream",
     "text": [
      "{'output_text': '1. 饮食困难\\n2. 胃部问题\\n3. 饮食建议\\n4. 健康养生\\n5. 疾病治疗\\n6. 中医调理\\n7. 肺腺癌\\n8. 奥希替尼\\n9. 基因检测\\n10. 药效问题\\n11. 康复经历\\n12. 生活态度\\n13. 健康养生\\n14. 疾病治疗\\n15. 中医调理\\n16. 饮食困难\\n17. 健康养生\\n18. 生活态度'}\n",
      "file_path:  /data1/dxw_data/llm/mkt_llm/mkt_medicine/data2/output_27.txt\n"
     ]
    },
    {
     "name": "stderr",
     "output_type": "stream",
     "text": [
      "Created a chunk of size 233, which is longer than the specified 100\n"
     ]
    },
    {
     "name": "stdout",
     "output_type": "stream",
     "text": [
      "{'output_text': '用户评论的主要主题关键词包括：\\n\\n1. 疾病与治疗：手术、化疗、癌症、转移灶、治疗反应、康复等。\\n2. 意志与毅力：坚强、勇敢、顽强、不认输等。\\n3. 家庭责任：长女、顶梁柱、压力、开销等。\\n4. 情绪与心理：心惊胆战、压力、隐瞒、孝顺等。\\n5. 饮食与运动：清淡饮食、营养、免疫力等。\\n6. 生活态度：安好、感恩、忙碌、麻将等。'}\n",
      "file_path:  /data1/dxw_data/llm/mkt_llm/mkt_medicine/data2/output_28.txt\n",
      "{'output_text': '用户的评论主题关键词有：生命价值、情绪稳定、经历、解决、放下、后悔、怨天尤人、骨转移、奥希替尼、手臂酸痛、脊椎问题、药罐子、肺腺癌、奥希替尼副作用、补血食谱、红豆薏仁红枣粥、芹菜炒牛肉、当归乌鸡汤、花生核桃露、身体健康、面色红润。'}\n",
      "file_path:  /data1/dxw_data/llm/mkt_llm/mkt_medicine/data2/output_29.txt\n",
      "{'output_text': '1. 头晕\\n2. 脑转移\\n3. 降期手术\\n4. 化疗\\n5. 血小板\\n6. 基因突变\\n7. 恩度\\n8. 顺铂\\n9. 肺腺伴肉瘤样癌\\n10. 中晚期\\n11. 憋喘'}\n",
      "file_path:  /data1/dxw_data/llm/mkt_llm/mkt_medicine/data2/output_30.txt\n",
      "{'output_text': '关键词:\\n\\n1. 肾癌\\n2. 帕博利株单抗(k药)\\n3. 肾癌治疗\\n4. 肾癌转移\\n5. 饮食建议\\n6. 运动\\n7. 心态调节\\n8. 雨中出行\\n9. 陪护\\n10. 乒乓球比赛'}\n",
      "file_path:  /data1/dxw_data/llm/mkt_llm/mkt_medicine/data2/output_31.txt\n",
      "{'output_text': '用户评论的主题关键词有：上海、偶遇、睡眠、饮食、养生、妈妈、身体、早餐、馒头、花卷、闹钟、厨房、香气。'}\n",
      "file_path:  /data1/dxw_data/llm/mkt_llm/mkt_medicine/data2/output_32.txt\n"
     ]
    },
    {
     "name": "stderr",
     "output_type": "stream",
     "text": [
      "Created a chunk of size 1042, which is longer than the specified 100\n"
     ]
    },
    {
     "name": "stdout",
     "output_type": "stream",
     "text": [
      "{'output_text': '主题关键词:\\n\\n1. 癌症治疗\\n2. 复查\\n3. 肿瘤标志物\\n4. 免疫治疗\\n5. 化疗\\n6. 靶向治疗\\n7. 肝转移\\n8. 免疫反应\\n9. 康复\\n10. 期待治疗效果'}\n",
      "file_path:  /data1/dxw_data/llm/mkt_llm/mkt_medicine/data2/output_33.txt\n"
     ]
    },
    {
     "name": "stderr",
     "output_type": "stream",
     "text": [
      "Created a chunk of size 2465, which is longer than the specified 100\n"
     ]
    },
    {
     "name": "stdout",
     "output_type": "stream",
     "text": [
      "{'output_text': '关键词:\\n\\n1. 问候\\n2. 积极\\n3. 浪漫\\n4. 新的一天\\n5. 期待\\n6. 向往\\n7. 生活\\n8. 热爱\\n9. 珍惜\\n10. 关心\\n11. 陪伴\\n12. 挑战\\n13. 困难\\n14. 阳光\\n15. 希望\\n16. 旅程\\n17. 生命\\n18. 倒计时的状态\\n19. 病理\\n20. 基因检测\\n21. 手术\\n22. 立体定向放疗\\n23. 病情\\n24. 无症状\\n25. 复查\\n26. 治疗\\n27. 靶向治疗\\n28. 奥希替尼\\n29. 晚期\\n30. 转移\\n31. 消极\\n32. 噩耗\\n33. 战斗\\n34. 眼泪\\n35. 资料\\n36. 陪伴\\n37. 重燃\\n38. 希望\\n39. 保佑\\n40. 药物\\n41. 奇效\\n42. 家人'}\n",
      "file_path:  /data1/dxw_data/llm/mkt_llm/mkt_medicine/data2/output_34.txt\n",
      "{'output_text': '用户评论的主题关键词：\\n\\n1. 人生哲理：包括做人原则，生活态度等。\\n2. 情感故事：涉及爱情，婚姻，家庭等情感生活。\\n3. 健康生活：关注身体健康，提高免疫力，应对疾病等。\\n4. 生活琐事：分享生活琐事，表达感激和幸福等。\\n5. 朋友圈动态：包括对朋友的关心和祝福等。'}\n",
      "file_path:  /data1/dxw_data/llm/mkt_llm/mkt_medicine/data2/output_35.txt\n",
      "{'output_text': '甲减、检验、药物、身体状态、复查、复查结果、复查项目、饮食、运动、心态、加油。'}\n",
      "file_path:  /data1/dxw_data/llm/mkt_llm/mkt_medicine/data2/output_36.txt\n",
      "{'output_text': '用户的评论主题关键词总结如下：\\n\\n1. 妈妈的健康状况：包括癌胚指数、肺部情况、化疗、骨髓移植等。\\n2. 陪诊问题：涉及陪诊服务、陪诊人员工作质量和效率等。\\n3. 疾病治疗和检查：包括中医针灸、CT检查、全身检查等。\\n4. 生活态度：涉及鼓励自己、努力生活、创造精彩人生等。\\n5. 健康养生：包括艾灸、健康饮食等。'}\n",
      "file_path:  /data1/dxw_data/llm/mkt_llm/mkt_medicine/data2/output_37.txt\n",
      "{'output_text': '1. 靶向药\\n2. 抗癌\\n3. 化疗\\n4. 免疫治疗\\n5. 耐药\\n6. 经验分享\\n7. 肿瘤进展\\n8. 骨髓抑制\\n9. 食欲下降\\n10. 肝转移\\n11. 手术\\n12. 药物难买'}\n",
      "file_path:  /data1/dxw_data/llm/mkt_llm/mkt_medicine/data2/output_38.txt\n",
      "{'output_text': '关键词总结：\\n\\n1. 肺癌手术\\n2. 胆囊问题\\n3. 放下过去\\n4. 离婚\\n5. 肠胃镜检查\\n6. 饮食清淡\\n7. 炒木耳\\n8. 肺腺癌晚期\\n9. 伏美替尼\\n10. 基因检测\\n11. 化疗\\n12. 意志力\\n13. 觅友'}\n",
      "file_path:  /data1/dxw_data/llm/mkt_llm/mkt_medicine/data2/output_39.txt\n",
      "{'output_text': '1. 靶向药\\n2. 免疫治疗\\n3. 肿瘤标志物\\n4. 睡眠质量\\n5. 生活饮食调理\\n6. 家人健康\\n7. 经济压力\\n8. 病情发展\\n9. 治疗效果\\n10. 副作用'}\n",
      "file_path:  /data1/dxw_data/llm/mkt_llm/mkt_medicine/data2/output_40.txt\n"
     ]
    },
    {
     "name": "stderr",
     "output_type": "stream",
     "text": [
      "Created a chunk of size 121, which is longer than the specified 100\n",
      "Created a chunk of size 124, which is longer than the specified 100\n",
      "Created a chunk of size 278, which is longer than the specified 100\n",
      "Created a chunk of size 142, which is longer than the specified 100\n",
      "Created a chunk of size 161, which is longer than the specified 100\n",
      "Created a chunk of size 208, which is longer than the specified 100\n",
      "Created a chunk of size 116, which is longer than the specified 100\n",
      "Created a chunk of size 199, which is longer than the specified 100\n",
      "Created a chunk of size 194, which is longer than the specified 100\n",
      "Created a chunk of size 104, which is longer than the specified 100\n"
     ]
    },
    {
     "name": "stdout",
     "output_type": "stream",
     "text": [
      "{'output_text': '总结用户评论的主题关键词如下：\\n\\n1. 骑行\\n2. 灵山\\n3. 美景\\n4. 负氧离子\\n5. 天气\\n6. 肿瘤支持治疗\\n7. 肿瘤全生命周期管理\\n8. 肿瘤诊疗\\n9. 规范化诊疗\\n10. 肿瘤居家治疗\\n11. 瑞金医院\\n12. 上海科技大学\\n13. 上海市抗癌协会胃肠肿瘤专业委员会\\n14. 生命旋律\\n15. 肿瘤防治\\n16. 王瑛\\n17. 肿瘤临床工作者\\n18. 肿瘤全症状控制\\n19. 肿瘤全病程管理\\n20. 癌症患者'}\n",
      "file_path:  /data1/dxw_data/llm/mkt_llm/mkt_medicine/data2/output_41.txt\n",
      "{'output_text': '关键词：肺癌、父亲、基因检测、放疗、骨扫描、疼痛、靶向药、化疗、骨转移、地舒单抗、心情、治疗方案、生活质量、病友、沉默、限量版、早安、鞘注化疗、体感、苍天保佑。'}\n",
      "file_path:  /data1/dxw_data/llm/mkt_llm/mkt_medicine/data2/output_42.txt\n",
      "{'output_text': '关键词总结如下：\\n\\n1. 生活态度：过犹不及，事缓则圆，适可而止，点到为止，知止，做好自己。\\n2. 亲情：父母依赖子女，子女照顾父母。\\n3. 疾病治疗：靶向药，化疗，血小板，肿瘤，感染，阿伐曲停。\\n4. 健康：吃喝拉撒，运动。\\n5. 公园：新公园，母校，美食，犄角旮旯。'}\n",
      "file_path:  /data1/dxw_data/llm/mkt_llm/mkt_medicine/data2/output_43.txt\n"
     ]
    },
    {
     "name": "stderr",
     "output_type": "stream",
     "text": [
      "Created a chunk of size 170, which is longer than the specified 100\n",
      "Created a chunk of size 179, which is longer than the specified 100\n",
      "Created a chunk of size 916, which is longer than the specified 100\n"
     ]
    },
    {
     "name": "stdout",
     "output_type": "stream",
     "text": [
      "{'output_text': '关键词：达沙替尼，副作用，厨艺，糖尿病，无糖麦片，全麦面包，杂粮主食，青菜，煮鸡蛋，荤菜，鱼，鸡，肉丝，排骨，杂粮米饭，水果，头晕，眼疼，止疼针，入院通知，脑转，化疗，劳拉耐药，疼痛，曲马多，奥施康定，治疗方案，基因突变，胸膜增大，基因检查，病情进展，疼痛管理。'}\n",
      "file_path:  /data1/dxw_data/llm/mkt_llm/mkt_medicine/data2/output_44.txt\n",
      "{'output_text': '关键词：\\n\\n1. 地舒单抗\\n2. 死海泥疗\\n3. 肺癌疾病\\n4. 谷美替尼\\n5. 脑转\\n6. 鞘注\\n7. 靶向\\n8. 脑膜转移\\n9. 化疗\\n10. 射波刀\\n11. 遗嘱\\n12. 淡定\\n13. 护士\\n14. 护士长\\n15. 医生\\n16. 医生们\\n17. 生命\\n18. 磨难\\n19. 坚强\\n20. 勇敢\\n21. 坚毅\\n22. 焦虑\\n23. 踏实\\n24. 未来\\n25. 当下\\n26. 早安'}\n",
      "file_path:  /data1/dxw_data/llm/mkt_llm/mkt_medicine/data2/output_45.txt\n"
     ]
    },
    {
     "name": "stderr",
     "output_type": "stream",
     "text": [
      "Created a chunk of size 1521, which is longer than the specified 100\n"
     ]
    },
    {
     "name": "stdout",
     "output_type": "stream",
     "text": [
      "{'output_text': '根据用户的评论内容，可以总结出以下主题关键词：\\n\\n1. 靶向药\\n2. 化疗\\n3. 放疗\\n4. 脑转移\\n5. 副作用\\n6. 咳嗽\\n7. 埃万妥单抗\\n8. 多西他赛\\n9. 阿得贝利\\n10. 康复新液\\n11. 金银花茶\\n12. 血常规\\n13. 肌酐\\n14. 乳酸脱氢酶\\n15. 皮疹\\n16. 卤米松软膏\\n17. 蛋白粉\\n18. 菊花茶\\n19. 坐诊\\n20. 崩溃'}\n",
      "file_path:  /data1/dxw_data/llm/mkt_llm/mkt_medicine/data2/output_46.txt\n",
      "{'output_text': '根据评论内容，以下是用户评论的主要主题关键词：\\n\\n1. 生死\\n2. 生命周期\\n3. 人生\\n4. 疾病\\n5. 衰老\\n6. 接受\\n7. 癌症\\n8. 死亡\\n9. 传统\\n10. 压力\\n11. 健康\\n12. 家庭\\n13. 旅游\\n14. 衰老\\n15. 时光\\n16. 生命意义\\n17. 人生经历\\n18. 生命价值\\n19. 疾病与治疗\\n20. 家庭责任\\n21. 心态\\n22. 人生选择\\n23. 生命态度\\n24. 人生感悟\\n25. 生活哲学'}\n",
      "file_path:  /data1/dxw_data/llm/mkt_llm/mkt_medicine/data2/output_47.txt\n",
      "{'output_text': '关键词：年龄，时间，生命，岁月，心态，生活，经历，命运，感悟，情感，奇迹，亲情，健康，亲情，父母，金钱，存钱，安排，希望，陪伴。'}\n",
      "file_path:  /data1/dxw_data/llm/mkt_llm/mkt_medicine/data2/output_48.txt\n"
     ]
    },
    {
     "name": "stderr",
     "output_type": "stream",
     "text": [
      "Created a chunk of size 417, which is longer than the specified 100\n",
      "Created a chunk of size 454, which is longer than the specified 100\n",
      "Created a chunk of size 104, which is longer than the specified 100\n",
      "Created a chunk of size 233, which is longer than the specified 100\n",
      "Created a chunk of size 252, which is longer than the specified 100\n",
      "Created a chunk of size 154, which is longer than the specified 100\n"
     ]
    },
    {
     "name": "stdout",
     "output_type": "stream",
     "text": [
      "{'output_text': '用户的评论主题关键词包括：\\n\\n1. 饮食：糊糊、鸡蛋、青菜、杂粮、二米饭、黄瓜、炒青菜、炒腰花、西红柿炒豆腐干、小肠青菜汤、排骨糯米饭、四季豆、蔬菜杂烩。\\n\\n2. 身体状况：气喘、咳嗽、乏力、食物不佳、肺部斑斑点点的看不清本来的样貌、肝部有数不清的小白点、肺癌种类、肺癌晚期、化疗、高质量生存期、体感更好。\\n\\n3. 医学治疗：穿刺肝部查看肺癌种类以及是否有新的基因突变、双免疫、帕雷利珠、白蛋白➕紫杉醇。'}\n",
      "file_path:  /data1/dxw_data/llm/mkt_llm/mkt_medicine/data2/output_49.txt\n",
      "{'output_text': '1. 基因检测\\n2. 靶向治疗\\n3. 肺癌\\n4. 骨转移\\n5. 脑转移\\n6. CEA\\n7. 纵隔淋巴结\\n8. 胸膜\\n9. 手术\\n10. 放疗\\n11. 消融治疗\\n12. 磨玻璃结节'}\n",
      "file_path:  /data1/dxw_data/llm/mkt_llm/mkt_medicine/data2/output_50.txt\n",
      "{'output_text': '关键词：出院，胜利的曙光，病友，治疗经验，头晕，腿软，奢睡，脑膜转移，脑转移，伏美替尼，卡博替尼，3759，奥西替尼，代搞，945，副反应，血脂血糖血压，浮肿，日子，继续，治疗，调整，专家，放疗，后遗症，小红书，化疗，副作用，医生，决定，纠结，耻骨转移，地舒单抗，换药，骨转移'}\n",
      "file_path:  /data1/dxw_data/llm/mkt_llm/mkt_medicine/data2/output_51.txt\n"
     ]
    },
    {
     "name": "stderr",
     "output_type": "stream",
     "text": [
      "Created a chunk of size 1060, which is longer than the specified 100\n"
     ]
    },
    {
     "name": "stdout",
     "output_type": "stream",
     "text": [
      "{'output_text': '1. 3A\\n2. 肺鳞癌\\n3. 甲状腺功能异常\\n4. 治疗\\n5. 副反应\\n6. 感冒\\n7. 菜谱\\n8. 成功\\n9. 沉得住气\\n10. 机遇\\n11. 成功者\\n12. 厚积薄发\\n13. 北京之行\\n14. 病友建议\\n15. 不抛弃不放弃'}\n",
      "file_path:  /data1/dxw_data/llm/mkt_llm/mkt_medicine/data2/output_52.txt\n",
      "{'output_text': '关键词：生活、保研、考研、出国留学、家庭条件、学校、竞争、努力、老师、推荐信、申请学校、认可、压力、化疗、医嘱、医院、医生、病人、生命、常识、安可达、贝伐、稳定、肺部、脑部、转移、检验科、笔误。'}\n",
      "file_path:  /data1/dxw_data/llm/mkt_llm/mkt_medicine/data2/output_53.txt\n"
     ]
    },
    {
     "name": "stderr",
     "output_type": "stream",
     "text": [
      "Created a chunk of size 654, which is longer than the specified 100\n"
     ]
    },
    {
     "name": "stdout",
     "output_type": "stream",
     "text": [
      "{'output_text': '关键词：EGFR19、免疫组化、c-met、赛沃、复查、病灶缩小、医生建议、群友交流、基因检测、met、注意事项。'}\n",
      "file_path:  /data1/dxw_data/llm/mkt_llm/mkt_medicine/data2/output_54.txt\n"
     ]
    },
    {
     "name": "stderr",
     "output_type": "stream",
     "text": [
      "Created a chunk of size 242, which is longer than the specified 100\n"
     ]
    },
    {
     "name": "stdout",
     "output_type": "stream",
     "text": [
      "{'output_text': '术后复查、病情进展、脑膜转移、鞘注、脑脊液检测、疼痛缓解、舒沃替尼、伏美替尼、痔疮、饮食问题、陪护、复查效果、奥西、赛沃5289.9元一盒、c-met3+。'}\n",
      "file_path:  /data1/dxw_data/llm/mkt_llm/mkt_medicine/data2/output_55.txt\n",
      "{'output_text': '主题关键词：妈妈、爸爸、肺腺癌、放疗、化疗、临床、针灸、艾灸、奥希联阿发、肿标、蝴蝶、努力、梦想。'}\n",
      "file_path:  /data1/dxw_data/llm/mkt_llm/mkt_medicine/data2/output_56.txt\n",
      "{'output_text': '完全缓解（CR）、部分缓解（PR）、疾病稳定（SD）、疾病进展（PD）、客观缓解、焦虑、睡眠、病情进展、pdl1低表达'}\n",
      "file_path:  /data1/dxw_data/llm/mkt_llm/mkt_medicine/data2/output_57.txt\n",
      "{'output_text': '主题关键词：民宿经营、价格、客人素质、客服、琐事、乒乓球、锻炼身体、场馆距离、费用、社交圈、良师益友、人生道路、圈子选择、医院、病情、癌痛、地舒单抗注射液、疗程、情绪、家庭、老爸、癌痛难受、生活压力。'}\n",
      "file_path:  /data1/dxw_data/llm/mkt_llm/mkt_medicine/data2/output_58.txt\n",
      "{'output_text': '主题关键词：\\n1. 免疫治疗\\n2. 检查结果\\n3. 血常规\\n4. 影像报告\\n5. 主治医生\\n6. 靶向药\\n7. 异地\\n8. 下周\\n9. 一切正常'}\n",
      "file_path:  /data1/dxw_data/llm/mkt_llm/mkt_medicine/data2/output_59.txt\n",
      "{'output_text': '关键词:\\n\\n1. 回家上岗\\n2. 皮疹\\n3. 复查\\n4. 肺癌\\n5. 阿来替尼\\n6. 痤疮样皮疹\\n7. 口腔溃疡\\n8. 恶心呕吐\\n9. 食欲减退'}\n",
      "file_path:  /data1/dxw_data/llm/mkt_llm/mkt_medicine/data2/output_60.txt\n",
      "{'output_text': '关键词：\\n1. 胸腺鳞癌\\n2. 淋巴和骨转移\\n3. 卡铂\\n4. 紫杉醇\\n5. 地舒单抗\\n6. 化疗\\n7. 免疫治疗\\n8. PDL-1数值\\n9. 病情稳定\\n10. 觅健平台\\n11. 后续治疗方案\\n12. 放疗\\n13. 免疫治疗方案\\n14. 觅健上SNOOP大神的治疗方案\\n15. 牙痛\\n16. 肺癌晚期\\n17. 大城市医院\\n18. 头部磁共振\\n19. 基因检测\\n20. 阿美替尼\\n21. 腹泻\\n22. 体重增加\\n23. 耐药\\n24. 体感\\n25. 脑部转移瘤\\n26. 化疗效果\\n27. MR检查\\n28. 基因检测结果'}\n",
      "file_path:  /data1/dxw_data/llm/mkt_llm/mkt_medicine/data2/output_61.txt\n"
     ]
    },
    {
     "name": "stderr",
     "output_type": "stream",
     "text": [
      "Created a chunk of size 283, which is longer than the specified 100\n"
     ]
    },
    {
     "name": "stdout",
     "output_type": "stream",
     "text": [
      "{'output_text': '关键词：睡眠，心情，家庭琐事，饮食，药物，复查，家庭，教育，普法，药盒，自信，自强，热爱，积极，阳光，早安。'}\n",
      "file_path:  /data1/dxw_data/llm/mkt_llm/mkt_medicine/data2/output_62.txt\n"
     ]
    },
    {
     "name": "stderr",
     "output_type": "stream",
     "text": [
      "Created a chunk of size 1091, which is longer than the specified 100\n",
      "Created a chunk of size 154, which is longer than the specified 100\n",
      "Created a chunk of size 864, which is longer than the specified 100\n",
      "Created a chunk of size 248, which is longer than the specified 100\n"
     ]
    },
    {
     "name": "stdout",
     "output_type": "stream",
     "text": [
      "{'output_text': '1. 脑部肿瘤\\n2. 肿瘤治疗\\n3. 肿瘤副作用\\n4. 顺其自然\\n5. 肿瘤患者心态\\n6. 肺癌\\n7. 肺癌治疗\\n8. 肺癌患者心态\\n9. 新冠疫苗\\n10. 医院发热门诊'}\n",
      "file_path:  /data1/dxw_data/llm/mkt_llm/mkt_medicine/data2/output_63.txt\n",
      "{'output_text': '关键词:\\n\\n1. 辽宁男篮王朝时代来临！\\n2. 觅健的保障\\n3. 化疗\\n4. 免疫治疗\\n5. 晚期肺癌\\n6. 单免疫治疗\\n7. 靶向药\\n8. 复查\\n9. 副作用处理\\n10. 医生支持\\n11. 家庭理解\\n12. 旅游愿望'}\n",
      "file_path:  /data1/dxw_data/llm/mkt_llm/mkt_medicine/data2/output_64.txt\n",
      "{'output_text': '1. 接受\\n2. 遗憾\\n3. 人生\\n4. 生活\\n5. 爱情\\n6. 成长\\n7. 改变\\n8. 选择\\n9. 忘记\\n10. 接受\\n11. 孤独\\n12. 挫败\\n13. 焦虑\\n14. 困惑\\n15. 成长\\n16. 后悔\\n17. 标准答案\\n18. 完美人生\\n19. 遗憾\\n20. 人生\\n21. 成长\\n22. 接受\\n23. 改变\\n24. 选择\\n25. 忘记'}\n",
      "file_path:  /data1/dxw_data/llm/mkt_llm/mkt_medicine/data2/output_65.txt\n"
     ]
    },
    {
     "name": "stderr",
     "output_type": "stream",
     "text": [
      "Created a chunk of size 345, which is longer than the specified 100\n",
      "Created a chunk of size 223, which is longer than the specified 100\n",
      "Created a chunk of size 300, which is longer than the specified 100\n"
     ]
    },
    {
     "name": "stdout",
     "output_type": "stream",
     "text": [
      "{'output_text': '关键词：早餐、结节、肿标、医生、化疗、副作用、凝血指标、尿酸、尿液、肿瘤、二线治疗、吃药、食欲、复诊、观察、做饭、虾球、牛肉、挫败感、坎坷。'}\n",
      "file_path:  /data1/dxw_data/llm/mkt_llm/mkt_medicine/data2/output_66.txt\n",
      "{'output_text': '根据文本内容，用户评论的主要主题关键词如下：\\n\\n1. 肿瘤标志物\\n2. 放疗\\n3. 肿瘤\\n4. 肿瘤标志物\\n5. 化疗\\n6. 睡眠\\n7. 饮食\\n8. 肺癌\\n9. 癌症\\n10. 瑞普替尼\\n11. 靶向药\\n12. 疗效\\n13. 副作用\\n14. 治疗\\n15. 生存期\\n16. 耐药\\n17. 入脑能力\\n18. 老年人\\n19. 亲情\\n20. 运动会'}\n",
      "file_path:  /data1/dxw_data/llm/mkt_llm/mkt_medicine/data2/output_67.txt\n",
      "{'output_text': '1. 热度\\n2. 阅读\\n3. 人生\\n4. 马拉松\\n5. 积极\\n6. 上进\\n7. 乐观\\n8. 升白针\\n9. 地榆升白片\\n10. 利可君'}\n",
      "file_path:  /data1/dxw_data/llm/mkt_llm/mkt_medicine/data2/output_68.txt\n"
     ]
    },
    {
     "name": "stderr",
     "output_type": "stream",
     "text": [
      "Created a chunk of size 580, which is longer than the specified 100\n"
     ]
    },
    {
     "name": "stdout",
     "output_type": "stream",
     "text": [
      "{'output_text': '根据提供的文本，我总结了以下几个主题关键词：\\n\\n1. 鼻血\\n2. 奥西替尼\\n3. 鼻子里结痂\\n4. 鼻血止住\\n5. 樱桃\\n6. 有趣的灵魂\\n7. 生活有趣\\n8. 求诊\\n9. 医生\\n10. 病友\\n11. 化疗\\n12. 免疫\\n13. 手术\\n14. 病理\\n15. 复发风险\\n16. 化疗副作用\\n17. 术后治疗'}\n",
      "file_path:  /data1/dxw_data/llm/mkt_llm/mkt_medicine/data2/output_69.txt\n",
      "{'output_text': '用户评论的主题关键词：\\n\\n1. 肺癌\\n2. 靶向治疗\\n3. 免疫治疗\\n4. 化疗\\n5. 基因检测\\n6. 手术治疗\\n7. 放疗\\n8. 术后辅助治疗\\n9. 生活质量\\n10. 家庭关系\\n11. 群组交流\\n12. 入坑风险'}\n",
      "file_path:  /data1/dxw_data/llm/mkt_llm/mkt_medicine/data2/output_70.txt\n",
      "{'output_text': '用户的评论主题关键词如下：\\n\\n1. 健康饮食\\n2. 抗癌心态\\n3. 生命旅程\\n4. 生活珍惜\\n5. 文字记录'}\n",
      "file_path:  /data1/dxw_data/llm/mkt_llm/mkt_medicine/data2/output_71.txt\n"
     ]
    },
    {
     "name": "stderr",
     "output_type": "stream",
     "text": [
      "Created a chunk of size 114, which is longer than the specified 100\n"
     ]
    },
    {
     "name": "stdout",
     "output_type": "stream",
     "text": [
      "{'output_text': '关键词：\\n1. 乳腺癌\\n2. 骨转移\\n3. 基因检测\\n4. 靶向治疗\\n5. 化疗\\n6. 腹泻\\n7. 肿瘤分期\\n8. 手术治疗\\n9. 饮食健康\\n10. 睡眠质量'}\n",
      "file_path:  /data1/dxw_data/llm/mkt_llm/mkt_medicine/data2/output_72.txt\n"
     ]
    },
    {
     "name": "stderr",
     "output_type": "stream",
     "text": [
      "Created a chunk of size 1062, which is longer than the specified 100\n"
     ]
    },
    {
     "name": "stdout",
     "output_type": "stream",
     "text": [
      "{'output_text': '1. 术后两年\\n2. 晚餐\\n3. 医生\\n4. 雨天\\n5. 学习\\n6. 生活体验\\n7. 肺鳞癌\\n8. 知识面'}\n",
      "file_path:  /data1/dxw_data/llm/mkt_llm/mkt_medicine/data2/output_73.txt\n",
      "{'output_text': '根据文本内容，用户的评论主要涉及到以下主题关键词：\\n\\n1. 父亲病情：评论中涉及父亲的年龄、病情、治疗过程和病情变化等。\\n2. 治疗选择：用户讨论了不同的治疗选择，包括化疗、放疗、免疫治疗、靶向治疗等。\\n3. 医生判断：用户对医生的诊断和治疗方案提出了质疑，强调需要考虑患者整体状况和多种检查结果。\\n4. 临床试验：用户提到了临床试验，并讨论了试验设计中的问题和不足之处。\\n5. 生命无常：用户通过分享经历，表达了对生命无常的感悟。\\n6. 身体反应：用户描述了自己和父亲的身体反应和症状，例如药物副作用、发烧等。\\n7. 治疗选择：用户讨论了治疗选择，包括化疗、放疗、免疫治疗、靶向治疗等。\\n8. 生命感悟：用户分享了对生命和疾病的感悟。\\n9. 家庭困难：用户表达了因病情和治疗带来的家庭困难，例如经济压力、照顾问题等。\\n10. 社会支持：用户也提到了社会和家人对他们的支持和帮助。'}\n",
      "file_path:  /data1/dxw_data/llm/mkt_llm/mkt_medicine/data2/output_74.txt\n",
      "{'output_text': '关键词：父亲、母亲、护理、病床、阳光、手术、淋巴纵隔转移、降期手术、平稳期病人、生命、准备、命运。'}\n",
      "file_path:  /data1/dxw_data/llm/mkt_llm/mkt_medicine/data2/output_75.txt\n",
      "{'output_text': '1. 生命\\n2. 准备\\n3. 迎接新鲜事\\n4. 命运\\n5. 经历\\n6. 豪赌\\n7. 主治医生\\n8. 省肿瘤\\n9. 临床试验\\n10. 药物\\n11. 方案可行性\\n12. 医生不透露\\n13. 成长\\n14. 初夏时节\\n15. 花开则败\\n16. 月满则亏\\n17. 顶峰\\n18. 走下坡路\\n19. 向上空间\\n20. 心情\\n21. 人生\\n22. 刚刚好'}\n",
      "file_path:  /data1/dxw_data/llm/mkt_llm/mkt_medicine/data2/output_76.txt\n",
      "{'output_text': '根据提供的文本，以下是关键词总结：\\n\\n1. 肺腺癌晚期脑转\\n2. 靶向药物奥希替尼\\n3. 免疫信迪利\\n4. EGFR 858、21突变\\n5. 耐药后单化培美\\n6. 白紫\\n7. 双化不耐受\\n8. 培美+卡铂\\n9. 升血小板、升白针\\n10. 饮食打卡\\n11. 吃饺子\\n12. 苹果当午饭\\n13. 煮茄子面、青菜、煮鸡蛋\\n14. 愿大家都被爱着\\n15. nan'}\n",
      "file_path:  /data1/dxw_data/llm/mkt_llm/mkt_medicine/data2/output_77.txt\n"
     ]
    },
    {
     "name": "stderr",
     "output_type": "stream",
     "text": [
      "Created a chunk of size 353, which is longer than the specified 100\n",
      "Created a chunk of size 149, which is longer than the specified 100\n",
      "Created a chunk of size 142, which is longer than the specified 100\n"
     ]
    },
    {
     "name": "stdout",
     "output_type": "stream",
     "text": [
      "{'output_text': '关键词：\\n1. 血管输液\\n2. 输液港\\n3. 血管\\n4. 液体\\n5. 液体输液\\n6. 扎针\\n7. 扎针次数\\n8. 液体输液\\n9. 液体输液\\n10. 扎针次数\\n11. 扎针次数\\n12. 扎针次数\\n13. 扎针次数\\n14. 扎针次数\\n15. 扎针次数\\n16. 扎针次数\\n17. 扎针次数\\n18. 扎针次数\\n19. 扎针次数\\n20. 扎针次数\\n21. 扎针次数\\n22. 扎针次数\\n23. 扎针次数\\n24. 扎针次数\\n25. 扎针次数\\n26. 扎针次数\\n27. 扎针次数\\n28. 扎针次数\\n29. 扎针次数\\n30. 扎针次数\\n31. 扎针次数\\n32. 扎针次数\\n33. 扎针次数\\n34. 扎针次数\\n35. 扎针次数\\n36. 扎针次数\\n37. 扎针次数\\n38. 扎针次数\\n39. 扎针次数\\n40. 扎针次数\\n41. 扎针次数\\n42. 扎针次数\\n43. 扎针次数\\n44. 扎针次数\\n45. 扎针次数\\n46. 扎针次数\\n47. 扎针次数\\n48. 扎针次数\\n49. 扎针次数\\n50. 扎针次数'}\n",
      "file_path:  /data1/dxw_data/llm/mkt_llm/mkt_medicine/data2/output_78.txt\n",
      "{'output_text': '关键词：化疗、治疗、柳暗花明、跌倒、辉煌、挫折、快乐、期待、日出、日落、太阳、希望、关心、旭日、东升、夕阳、大自然、摄影师、人生经历、珍惜。'}\n",
      "file_path:  /data1/dxw_data/llm/mkt_llm/mkt_medicine/data2/output_79.txt\n"
     ]
    },
    {
     "name": "stderr",
     "output_type": "stream",
     "text": [
      "Created a chunk of size 312, which is longer than the specified 100\n"
     ]
    },
    {
     "name": "stdout",
     "output_type": "stream",
     "text": [
      "{'output_text': '根据文本内容，用户评论的主要主题关键词包括：\\n\\n1. 父母健康问题\\n2. 医疗费用\\n3. 医疗资源\\n4. 医德\\n5. 医疗态度\\n6. 健康生活方式\\n7. 家庭关系\\n8. 生活态度'}\n",
      "file_path:  /data1/dxw_data/llm/mkt_llm/mkt_medicine/data2/output_80.txt\n",
      "{'output_text': '主题关键词：\\n\\n1. 检查部位：胸椎、腰椎、骨盆、髋关节\\n2. 检查所见：椎间隙、椎间盘、黄韧带、脊髓、椎体、信号、异常\\n3. 诊断意见：异常信号、建议复查、血管瘤、转移瘤、骨质增生、椎间盘变性、膨出、骨盆MR平扫\\n4. 影片名称：陌路狂花钱\\n5. 活动：观看电影、制作面条、烹饪晚餐、听音乐\\n6. 感悟：陪伴家人、珍惜当下、反思人生价值'}\n",
      "file_path:  /data1/dxw_data/llm/mkt_llm/mkt_medicine/data2/output_81.txt\n",
      "{'output_text': '关键词:\\n\\n1. 健康\\n2. 劳逸结合\\n3. 学习\\n4. 工作\\n5. 能量\\n6. 专注\\n7. 周末\\n8. 肿瘤科\\n9. 医疗记录\\n10. 医保卡\\n11. 健康保险\\n12. 风险\\n13. 劳逸平衡\\n14. 能量储备\\n15. 健康意识'}\n",
      "file_path:  /data1/dxw_data/llm/mkt_llm/mkt_medicine/data2/output_82.txt\n",
      "{'output_text': '1. 生命修行\\n2. 父亲抗癌\\n3. 机会与勇气\\n4. 自卑心态\\n5. 乒乓球运动\\n6. 夏天露肉\\n7. 勇气与挑战'}\n",
      "file_path:  /data1/dxw_data/llm/mkt_llm/mkt_medicine/data2/output_83.txt\n",
      "{'output_text': '关键词：雨巷，戴望舒，丁香，姑娘，雨声，茶，万物，温柔，诗意，畅想，雨中，慌乱，拿得起，放得下，邂逅，委婉缠绵，多情，妩媚，梦境，风微凉，清雅，丁香一样的姑娘，时光，射波刀，医生，病人，排队，ct影像，转移灶，射波刀大夫，晚期癌症，行医誓言，屠夫，收入，良心。'}\n",
      "file_path:  /data1/dxw_data/llm/mkt_llm/mkt_medicine/data2/output_84.txt\n",
      "{'output_text': '用户的评论主题关键词包括：\\n\\n1. 健康问题：用户描述了自己的健康问题，包括癌症、疼痛、住院、检查等，表现出对健康的关注和担忧。\\n2. 家人和情绪：用户表达了对家人的牵挂和爱，同时也描述了自己在治疗过程中的负面情绪，如消沉、无力感等。\\n3. 治疗方案：用户讨论了自己父亲的病情，以及针对治疗方案的纠结和困惑。\\n4. 生活态度：用户以积极的态度面对生活的挑战，鼓励大家热爱生活，探寻生命的更多可能性。'}\n",
      "file_path:  /data1/dxw_data/llm/mkt_llm/mkt_medicine/data2/output_85.txt\n"
     ]
    },
    {
     "name": "stderr",
     "output_type": "stream",
     "text": [
      "Created a chunk of size 1546, which is longer than the specified 100\n"
     ]
    },
    {
     "name": "stdout",
     "output_type": "stream",
     "text": [
      "{'output_text': '父母，病痛，生活困难，照顾父母，医疗费用，身体挑战，心情，健康饮食，散步，内心平静。'}\n",
      "file_path:  /data1/dxw_data/llm/mkt_llm/mkt_medicine/data2/output_86.txt\n"
     ]
    },
    {
     "name": "stderr",
     "output_type": "stream",
     "text": [
      "/home/dxw/anaconda3/envs/agent/lib/python3.8/site-packages/transformers/generation/utils.py:1268: UserWarning: Input length of input_ids is 2167, but `max_length` is set to 2048. This can lead to unexpected behavior. You should consider increasing `max_new_tokens`.\n",
      "  warnings.warn(\n",
      "Created a chunk of size 303, which is longer than the specified 100\n"
     ]
    },
    {
     "name": "stdout",
     "output_type": "stream",
     "text": [
      "{'output_text': ''}\n",
      "file_path:  /data1/dxw_data/llm/mkt_llm/mkt_medicine/data2/output_87.txt\n",
      "{'output_text': '用户的评论主题关键词有以下几个：\\n\\n1. 爱国教育\\n2. 爱国主义\\n3. 爱自己\\n4. 爱家人\\n5. 爱邻舍\\n6. 爱国家\\n7. 恒久忍耐\\n8. 恩慈\\n9. 真理\\n10. 包容\\n11. 相信\\n12. 盼望\\n13. 忍耐\\n14. 肺癌疾病\\n15. 热。'}\n",
      "file_path:  /data1/dxw_data/llm/mkt_llm/mkt_medicine/data2/output_88.txt\n"
     ]
    },
    {
     "name": "stderr",
     "output_type": "stream",
     "text": [
      "Created a chunk of size 446, which is longer than the specified 100\n"
     ]
    },
    {
     "name": "stdout",
     "output_type": "stream",
     "text": [
      "{'output_text': '关键词：\\n\\n1. 爸爸\\n2. 觅友们\\n3. 爸爸体感不错\\n4. 换了新的工作\\n5. 10化\\n6. 癌胚\\n7. 心情低落\\n8. 培美曲塞\\n9. 卡铂\\n10. 贝伐珠单抗\\n11. 阿来替尼靶向治疗\\n12. 肝肾功能检查\\n13. 谷丙转氨酶\\n14. 谷草转氨酶\\n15. 总胆红素\\n16. 直接胆红素\\n17. 化疗\\n18. 酒店\\n19. 浙江省肿瘤医院\\n20. 附近吃饭\\n21. 医院外面的小广告\\n22. 森林酒店\\n23. 走路\\n24. 耐药\\n25. 周边环境'}\n",
      "file_path:  /data1/dxw_data/llm/mkt_llm/mkt_medicine/data2/output_89.txt\n"
     ]
    },
    {
     "name": "stderr",
     "output_type": "stream",
     "text": [
      "Created a chunk of size 458, which is longer than the specified 100\n"
     ]
    },
    {
     "name": "stdout",
     "output_type": "stream",
     "text": [
      "{'output_text': '用户的评论主题关键词包括：民宿、客服、气费、客人、水电预存、拔河比赛、工作失误、药轮换、副作用、化疗、耐药。'}\n",
      "file_path:  /data1/dxw_data/llm/mkt_llm/mkt_medicine/data2/output_90.txt\n",
      "{'output_text': '1. 疾病：患者在文中提到了老公心梗、自己患有肿瘤，需要做手术等，这些都是疾病相关的关键词。\\n2. 医院：文中多次提到医院，如省肿瘤医院、医院等，都是医院相关的关键词。\\n3. 医生：文中多次提到医生，如医生、医生水平、医生帮忙等，都是医生相关的关键词。\\n4. 病情：文中详细描述了患者的病情，如老公心梗、头疼呕吐、肿瘤标志物异常等，这些都是病情相关的关键词。\\n5. 父母：文中提到了母亲的病情，如母亲消瘦、母亲难受等，这些都是父母相关的关键词。'}\n",
      "file_path:  /data1/dxw_data/llm/mkt_llm/mkt_medicine/data2/output_91.txt\n"
     ]
    },
    {
     "name": "stderr",
     "output_type": "stream",
     "text": [
      "Created a chunk of size 1433, which is longer than the specified 100\n",
      "Created a chunk of size 140, which is longer than the specified 100\n",
      "Created a chunk of size 132, which is longer than the specified 100\n",
      "Created a chunk of size 1231, which is longer than the specified 100\n"
     ]
    },
    {
     "name": "stdout",
     "output_type": "stream",
     "text": [
      "{'output_text': '关键词：病情、检查、治疗、肿瘤、进展、耐药、饮食、水、维生素、肿瘤侵袭、pH值、小苏打、苦杏仁苷、维生素B17、姜黄。'}\n",
      "file_path:  /data1/dxw_data/llm/mkt_llm/mkt_medicine/data2/output_92.txt\n"
     ]
    },
    {
     "name": "stderr",
     "output_type": "stream",
     "text": [
      "/home/dxw/anaconda3/envs/agent/lib/python3.8/site-packages/transformers/generation/utils.py:1268: UserWarning: Input length of input_ids is 2087, but `max_length` is set to 2048. This can lead to unexpected behavior. You should consider increasing `max_new_tokens`.\n",
      "  warnings.warn(\n",
      "Created a chunk of size 181, which is longer than the specified 100\n"
     ]
    },
    {
     "name": "stdout",
     "output_type": "stream",
     "text": [
      "{'output_text': ''}\n",
      "file_path:  /data1/dxw_data/llm/mkt_llm/mkt_medicine/data2/output_93.txt\n",
      "{'output_text': '根据用户评论的内容，我们可以总结出以下主题关键词：\\n\\n1. 肺癌：评论中有多位患者提到了自己或家人患有肺癌。\\n2. 治疗方案：评论中讨论了各种肺癌治疗方案，包括手术、化疗、靶向治疗、免疫治疗等。\\n3. 复发：有多位患者提到了肺癌复发的可能性，以及复发后的治疗方案。\\n4. 基因检测：多位患者提到了进行基因检测，以确定肺癌的分子分型和治疗方案。\\n5. 饮食：有患者在讨论肺癌患者的饮食建议。\\n6. 睡眠：有一位患者提到了肺癌治疗对睡眠的影响。\\n7. 咳嗽：有多位患者提到肺癌治疗后的咳嗽症状。\\n8. 声音嘶哑：有一位患者提到了肺癌治疗后的声音嘶哑症状。\\n9. 副作用：多位患者提到了肺癌治疗中的副作用。\\n10. 咨询：有多位患者在寻求其他患者的意见和建议。'}\n",
      "file_path:  /data1/dxw_data/llm/mkt_llm/mkt_medicine/data2/output_94.txt\n",
      "{'output_text': '关键词：生活、快乐、充实、健康、饮食、睡眠、亲情、亲情、感恩、忙碌、聊天、散步、公园、自行车、超市、买菜、压力锅、红苋菜、手机、刷刷、午饭、视频、消食、午觉、电话、聊天、散步、跳交谊舞、吸氧、洗澡、内衣裤、洗澡巾、洗头洗澡、珊宝、妈妈、按摩、床上、睡觉、晨光、期待、步履不停、新的一天、早安。'}\n",
      "file_path:  /data1/dxw_data/llm/mkt_llm/mkt_medicine/data2/output_95.txt\n",
      "{'output_text': '关键词:\\n\\n1. 出国医疗\\n2. 病假\\n3. 照顾病人\\n4. 老人\\n5. 洗头洗澡\\n6. 久病床前无孝子\\n7. 梦想\\n8. 现实\\n9. 理想\\n10. 山路\\n11. 星辰'}\n",
      "file_path:  /data1/dxw_data/llm/mkt_llm/mkt_medicine/data2/output_96.txt\n",
      "{'output_text': '用户评论的主要主题关键词有：加油、好好吃饭、相信奇迹、许愿、复查、医院、血常规、肝肾功能、肿标、白血胞、CT。'}\n",
      "file_path:  /data1/dxw_data/llm/mkt_llm/mkt_medicine/data2/output_97.txt\n"
     ]
    },
    {
     "name": "stderr",
     "output_type": "stream",
     "text": [
      "/home/dxw/anaconda3/envs/agent/lib/python3.8/site-packages/transformers/generation/utils.py:1268: UserWarning: Input length of input_ids is 2604, but `max_length` is set to 2048. This can lead to unexpected behavior. You should consider increasing `max_new_tokens`.\n",
      "  warnings.warn(\n"
     ]
    },
    {
     "name": "stdout",
     "output_type": "stream",
     "text": [
      "{'output_text': ''}\n",
      "file_path:  /data1/dxw_data/llm/mkt_llm/mkt_medicine/data2/output_98.txt\n"
     ]
    },
    {
     "name": "stderr",
     "output_type": "stream",
     "text": [
      "Created a chunk of size 469, which is longer than the specified 100\n",
      "Created a chunk of size 122, which is longer than the specified 100\n"
     ]
    },
    {
     "name": "stdout",
     "output_type": "stream",
     "text": [
      "{'output_text': '1. 培美\\n2. 贝伐\\n3. CT\\n4. 白紫\\n5. 卡铂\\n6. 用药\\n7. 效果\\n8. 淋巴结\\n9. 空窗期\\n10. 身体伤害'}\n",
      "file_path:  /data1/dxw_data/llm/mkt_llm/mkt_medicine/data2/output_99.txt\n",
      "{'output_text': '关键词总结如下：\\n\\n1. 交通便捷：孩子回家时间缩短\\n2. 父母饮食起居：照顾父母\\n3. 照顾病人：照顾生病父母\\n4. 肿瘤复查：肿瘤复查经验分享\\n5. 营养不良：营养不良问题\\n6. 心理状态：心理状态的调整\\n7. 医疗治疗：医疗治疗经验分享\\n8. 身体健康：身体健康状况关注'}\n",
      "['关键词：脑部病灶、检查结果、化疗、靶向四期、脑部病灶反复出现、放疗、伽马刀、质子放疗、肺部放疗、担心肺炎、呕吐、严重症状。', '关键词：\\n1. 生命\\n2. 过程\\n3. 经历\\n4. 珍惜时间\\n5. 成就更好的自己\\n6. 晨光\\n7. 期待\\n8. 步履不停\\n9. 精彩\\n10. 充实\\n11. 高考\\n12. 基因突变\\n13. 治疗效果\\n14. 化学药物\\n15. 副作用\\n16. 皮疹\\n17. 保持皮肤清洁\\n18. 勤洗澡\\n19. 换衣\\n20. 皮炎平\\n21. 炉甘石洗剂\\n22. 氯雷他定\\n23. 抓挠\\n24. 感染\\n25. 碘伏\\n26. 红霉素\\n27. 百多邦\\n28. 美满霉素\\n29. 饮食清淡\\n30. 麻辣食品', '1. 肿瘤诊断\\n2. 生活态度\\n3. 家庭关系\\n4. 心理状态\\n5. 疾病治疗\\n6. 父母关爱\\n7. 生活琐事\\n8. 生活压力\\n9. 家庭责任', '关键词：\\n\\n1. 互相欣赏\\n2. 争短长\\n3. 沉默\\n4. 口舌之争\\n5. 修养\\n6. 息事宁人\\n7. 成全\\n8. 成年人世界\\n9. 肺部薄层高分辨CT\\n10. 主治医师\\n11. 肿瘤\\n12. 确诊\\n13. 治疗方案\\n14. 专家建议\\n15. 病灶持续缩小\\n16. 阳性结果\\n17. 高兴与悲哀\\n18. 治疗征程\\n19. 肿瘤晚期\\n20. 肺内多发转移\\n21. 骨转移\\n22. 建。', '主题关键词：肿瘤标志物、复查、肺癌、治疗、家族遗传史、碎片时间、医学基础、经验、化疗、眼眶痛、痰培养、咳嗽、出痰、胸部疼痛、睡眠质量、贝伐、阿美替尼、焦虑、晚霞。', '', '1. 民宿客人\\n2. 奇葩客人\\n3. 卫生问题\\n4. 退房\\n5. 扣押金\\n6. 烟味\\n7. 卫生费\\n8. 妈妈健康\\n9. 陪伴\\n10. 睡眠质量\\n11. 行业考试\\n12. 工作对接\\n13. 家庭生活\\n14. 生日庆祝\\n15. 陪伴妈妈\\n16. 就医问题\\n17. 疾病困扰\\n18. 家庭变化\\n19. 生活压力\\n20. 生活态度', '用户的评论主题关键词有：锻炼、快乐、痛苦、病情、咳嗽、饮食、心情、恢复、手术、病理、肾上腺。', '1. 肺穿刺基因结果\\n2. 人生\\n3. 生活\\n4. 肺不张\\n5. 影像检查\\n6. 肺炎\\n7. 核磁\\n8. 乐观心态\\n9. 自我修复\\n10. 美好未来\\n11. 生命经历', '根据文本的内容，可以总结出以下几个主题关键词：\\n\\n1. 肿瘤分型：肺腺癌\\n2. 肿瘤分期：Ⅳ B期\\n3. 治疗方案：靶向治疗\\n4. 治疗用药：泰瑞沙甲磺酸奥希替尼，安加维地舒单抗，胸腺法新\\n5. 基因突变：egfr21\\n6. 多发骨转移\\n7. 肾上腺转移\\n8. 复查\\n9. 血液指标\\n10. CT检查\\n11. 脑部核磁共振检查\\n12. 放疗建议\\n13. 觅友互助\\n14. 放下执念，接受现实', '用户评论的主要主题关键词有：手术后疼痛、手术切除位置疼痛、术后治疗、免疫治疗选择、新的一天、勇往直前、希望、活动、土耳其冰激凌。', '用户的评论主要涉及以下主题关键词：\\n\\n1. 旅行经历：包括宣化、清河站、呼和浩特等地的旅行体验，以及儿童公园、羊肉串、蜜雪冰城等具体景点和事物的描述。\\n2. 疾病经历：涉及肌萎缩侧索硬化症（渐冻症）的描述，包括发病原因、求诊经历、治疗措施和现状。\\n3. 家庭关系：涉及与丈夫和女儿的互动、感谢以及家庭支持的内容。\\n4. 节日祝愿：表达了对超龄儿童六一儿童节的节日祝愿。\\n5. 积极心态：强调保持童心、童真和心态纯真，并分享了自己保持乐观心态的经验。\\n6. 生活感悟：对旅行和生活经历有所感悟，表达了对幸福的理解和追求。', '主题关键词：\\n\\n1. 疾病：肺癌、胆囊占位、胰腺癌、胆管癌、颅内肿瘤、癌细胞\\n2. 手术：切除手术、开腹手术、ERCP十二指肠镜、病理检查\\n3. 家庭：亲人离世、幼子、娇妻、家庭压力\\n4. 经济：自费医疗、账单、经济负担\\n5. 情绪：悲伤、恐惧、焦虑、无助\\n6. 坚强：坚强、勇敢面对、不倒下\\n7. 希望：希望、攻克癌症、天下无癌', '关键词:\\n\\n1. 治疗历史\\n2. 肺癌\\n3. 咳嗽\\n4. 治疗方案\\n5. 经济问题\\n6. 核磁共振\\n7. 结节\\n8. 复查\\n9. 医生建议\\n10. 病痛\\n11. 脑部增强核磁共振', '关键词：身体健康，心态调整，睡眠质量，肺腺癌，化疗方案，费用因素，间质性肺炎，可瑞达，信迪利，晚期肺癌，肺部感染，心脏造影。', '关键词：感恩、家人、经营、责任、健康、心态、生活、疾病、快乐、夫妻关系。', '关键词：妈妈，大连，加油，996，升职加薪，考核A，地塞米松，突然不舒服，住院，肺腺癌，手术，基因监测，生活质量，生命长河，命运，春和景明，咳嗽，气管镜活检，低分化肺腺癌，脑部核磁，骨扫描，腹部肾上腺，肝胆，肾彩超，心脏多普勒，甲状腺，颈部血管，淋巴，双下肢动静脉检查，脑部核磁，PET/CT，基因检测，伏美替尼，康莱特，肺炎，咳嗽频次，靶向药，腹泻，皮疹，口腔溃疡，肝肾损伤，增强CT，模糊，后续治疗方案，恶心穿搭，专业运动员，南瓜杂粮粥，小海参，小葱拌豆腐，二米饭，椒盐小河虾，小白菜炖土豆，小米粥，韭菜炒小河虾，猪耳朵豆角丝炒肉，加餐，西瓜，猕猴桃，芒果。', '用户评论的主题关键词包括：手术、手术疼痛、化疗、病情恶化、生活质量差、颈椎压迫、情绪低落。', '关键词：重庆，报销，奥西，渝快保，药品，耐药，MET基因，非小细胞肺癌，EGFR TKI，基因检测，唑来膦酸钠，贝福替尼，射波刀，营养，医院，医生，面瘫，手术，肿瘤。', '1. 妈妈的病情和治疗\\n2. 妈妈的活动和费用报销\\n3. 妈妈的不适和我的疲惫\\n4. 妈妈的高强度活动\\n5. 妈妈的健康和养生\\n6. 妈妈的休息和我的期望\\n7. 妈妈的心情和我的感受\\n8. 妈妈的生活和我的工作\\n9. 妈妈的医院治疗和生活\\n10. 妈妈的病情好转和我的希望', '1. 内心稳定\\n2. 生活琐事\\n3. 家庭责任\\n4. 自我认可\\n5. 松弛感\\n6. 他人评价\\n7. 存在感\\n8. 关卡\\n9. 民宿经营\\n10. 照顾老人', '关键词:\\n\\n1. 肺癌\\n2. 化疗\\n3. 基因检测\\n4. 免疫治疗\\n5. 肿瘤转移\\n6. 疼痛管理\\n7. 护骨针\\n8. 饮食调理\\n9. 临床试验\\n10. 脑部MRI\\n11. 脑转移\\n12. 医生沟通', '关键词：\\n\\n1. 癌胚抗原\\n2. 神经元特异性烯醇化酶\\n3. 细胞角蛋白19片段\\n4. 鳞状细胞癌抗原\\n5. 胃泌素释放肽前体\\n6. 心电图\\n7. 尿蛋白\\n8. 高血压\\n9. 心脑血管问题\\n10. 左上肺切除手术\\n11. 放疗\\n12. 放射性肺炎\\n13. 咳嗽\\n14. 中医养生\\n15. 小细胞肺癌基因检测', '1. 晚期癌症\\n2. 恩沙替尼\\n3. 手术机会\\n4. 肿瘤标志物\\n5. 肿瘤扩散\\n6. 化疗方案\\n7. 口腔溃疡\\n8. 升白针\\n9. 升白针副作用\\n10. 化疗副作用\\n11. 治疗方案选择\\n12. 口腔护理\\n13. 癌症疼痛\\n14. 营养支持\\n15. 免疫力增强\\n16. 贵州野生牛粪刺梨\\n17. 康复治疗\\n18. 情绪管理\\n19. 家庭支持\\n20. 疾病预后', '用户的评论主题关键词有：\\n\\n- 靶向治疗\\n- 喉咙哑\\n- 饥饿过度\\n- 靶向药\\n- 咳嗽\\n- 低烧\\n- 病理报告\\n- 选拔赛\\n- 公平公正\\n- 省里比赛\\n- 电吹风\\n- 信用免押\\n- 扣押金\\n- 医院治疗\\n- 新冠病毒\\n- 生病原因\\n- 睡觉\\n- 睡眠质量\\n- 保健品\\n- 敏感\\n- 安全感\\n- 青春期\\n- 学习时间', '1. 饮食困难\\n2. 胃部问题\\n3. 饮食建议\\n4. 健康养生\\n5. 疾病治疗\\n6. 中医调理\\n7. 肺腺癌\\n8. 奥希替尼\\n9. 基因检测\\n10. 药效问题\\n11. 康复经历\\n12. 生活态度\\n13. 健康养生\\n14. 疾病治疗\\n15. 中医调理\\n16. 饮食困难\\n17. 健康养生\\n18. 生活态度', '用户评论的主要主题关键词包括：\\n\\n1. 疾病与治疗：手术、化疗、癌症、转移灶、治疗反应、康复等。\\n2. 意志与毅力：坚强、勇敢、顽强、不认输等。\\n3. 家庭责任：长女、顶梁柱、压力、开销等。\\n4. 情绪与心理：心惊胆战、压力、隐瞒、孝顺等。\\n5. 饮食与运动：清淡饮食、营养、免疫力等。\\n6. 生活态度：安好、感恩、忙碌、麻将等。', '用户的评论主题关键词有：生命价值、情绪稳定、经历、解决、放下、后悔、怨天尤人、骨转移、奥希替尼、手臂酸痛、脊椎问题、药罐子、肺腺癌、奥希替尼副作用、补血食谱、红豆薏仁红枣粥、芹菜炒牛肉、当归乌鸡汤、花生核桃露、身体健康、面色红润。', '1. 头晕\\n2. 脑转移\\n3. 降期手术\\n4. 化疗\\n5. 血小板\\n6. 基因突变\\n7. 恩度\\n8. 顺铂\\n9. 肺腺伴肉瘤样癌\\n10. 中晚期\\n11. 憋喘', '关键词:\\n\\n1. 肾癌\\n2. 帕博利株单抗(k药)\\n3. 肾癌治疗\\n4. 肾癌转移\\n5. 饮食建议\\n6. 运动\\n7. 心态调节\\n8. 雨中出行\\n9. 陪护\\n10. 乒乓球比赛', '用户评论的主题关键词有：上海、偶遇、睡眠、饮食、养生、妈妈、身体、早餐、馒头、花卷、闹钟、厨房、香气。', '主题关键词:\\n\\n1. 癌症治疗\\n2. 复查\\n3. 肿瘤标志物\\n4. 免疫治疗\\n5. 化疗\\n6. 靶向治疗\\n7. 肝转移\\n8. 免疫反应\\n9. 康复\\n10. 期待治疗效果', '关键词:\\n\\n1. 问候\\n2. 积极\\n3. 浪漫\\n4. 新的一天\\n5. 期待\\n6. 向往\\n7. 生活\\n8. 热爱\\n9. 珍惜\\n10. 关心\\n11. 陪伴\\n12. 挑战\\n13. 困难\\n14. 阳光\\n15. 希望\\n16. 旅程\\n17. 生命\\n18. 倒计时的状态\\n19. 病理\\n20. 基因检测\\n21. 手术\\n22. 立体定向放疗\\n23. 病情\\n24. 无症状\\n25. 复查\\n26. 治疗\\n27. 靶向治疗\\n28. 奥希替尼\\n29. 晚期\\n30. 转移\\n31. 消极\\n32. 噩耗\\n33. 战斗\\n34. 眼泪\\n35. 资料\\n36. 陪伴\\n37. 重燃\\n38. 希望\\n39. 保佑\\n40. 药物\\n41. 奇效\\n42. 家人', '用户评论的主题关键词：\\n\\n1. 人生哲理：包括做人原则，生活态度等。\\n2. 情感故事：涉及爱情，婚姻，家庭等情感生活。\\n3. 健康生活：关注身体健康，提高免疫力，应对疾病等。\\n4. 生活琐事：分享生活琐事，表达感激和幸福等。\\n5. 朋友圈动态：包括对朋友的关心和祝福等。', '甲减、检验、药物、身体状态、复查、复查结果、复查项目、饮食、运动、心态、加油。', '用户的评论主题关键词总结如下：\\n\\n1. 妈妈的健康状况：包括癌胚指数、肺部情况、化疗、骨髓移植等。\\n2. 陪诊问题：涉及陪诊服务、陪诊人员工作质量和效率等。\\n3. 疾病治疗和检查：包括中医针灸、CT检查、全身检查等。\\n4. 生活态度：涉及鼓励自己、努力生活、创造精彩人生等。\\n5. 健康养生：包括艾灸、健康饮食等。', '1. 靶向药\\n2. 抗癌\\n3. 化疗\\n4. 免疫治疗\\n5. 耐药\\n6. 经验分享\\n7. 肿瘤进展\\n8. 骨髓抑制\\n9. 食欲下降\\n10. 肝转移\\n11. 手术\\n12. 药物难买', '关键词总结：\\n\\n1. 肺癌手术\\n2. 胆囊问题\\n3. 放下过去\\n4. 离婚\\n5. 肠胃镜检查\\n6. 饮食清淡\\n7. 炒木耳\\n8. 肺腺癌晚期\\n9. 伏美替尼\\n10. 基因检测\\n11. 化疗\\n12. 意志力\\n13. 觅友', '1. 靶向药\\n2. 免疫治疗\\n3. 肿瘤标志物\\n4. 睡眠质量\\n5. 生活饮食调理\\n6. 家人健康\\n7. 经济压力\\n8. 病情发展\\n9. 治疗效果\\n10. 副作用', '总结用户评论的主题关键词如下：\\n\\n1. 骑行\\n2. 灵山\\n3. 美景\\n4. 负氧离子\\n5. 天气\\n6. 肿瘤支持治疗\\n7. 肿瘤全生命周期管理\\n8. 肿瘤诊疗\\n9. 规范化诊疗\\n10. 肿瘤居家治疗\\n11. 瑞金医院\\n12. 上海科技大学\\n13. 上海市抗癌协会胃肠肿瘤专业委员会\\n14. 生命旋律\\n15. 肿瘤防治\\n16. 王瑛\\n17. 肿瘤临床工作者\\n18. 肿瘤全症状控制\\n19. 肿瘤全病程管理\\n20. 癌症患者', '关键词：肺癌、父亲、基因检测、放疗、骨扫描、疼痛、靶向药、化疗、骨转移、地舒单抗、心情、治疗方案、生活质量、病友、沉默、限量版、早安、鞘注化疗、体感、苍天保佑。', '关键词总结如下：\\n\\n1. 生活态度：过犹不及，事缓则圆，适可而止，点到为止，知止，做好自己。\\n2. 亲情：父母依赖子女，子女照顾父母。\\n3. 疾病治疗：靶向药，化疗，血小板，肿瘤，感染，阿伐曲停。\\n4. 健康：吃喝拉撒，运动。\\n5. 公园：新公园，母校，美食，犄角旮旯。', '关键词：达沙替尼，副作用，厨艺，糖尿病，无糖麦片，全麦面包，杂粮主食，青菜，煮鸡蛋，荤菜，鱼，鸡，肉丝，排骨，杂粮米饭，水果，头晕，眼疼，止疼针，入院通知，脑转，化疗，劳拉耐药，疼痛，曲马多，奥施康定，治疗方案，基因突变，胸膜增大，基因检查，病情进展，疼痛管理。', '关键词：\\n\\n1. 地舒单抗\\n2. 死海泥疗\\n3. 肺癌疾病\\n4. 谷美替尼\\n5. 脑转\\n6. 鞘注\\n7. 靶向\\n8. 脑膜转移\\n9. 化疗\\n10. 射波刀\\n11. 遗嘱\\n12. 淡定\\n13. 护士\\n14. 护士长\\n15. 医生\\n16. 医生们\\n17. 生命\\n18. 磨难\\n19. 坚强\\n20. 勇敢\\n21. 坚毅\\n22. 焦虑\\n23. 踏实\\n24. 未来\\n25. 当下\\n26. 早安', '根据用户的评论内容，可以总结出以下主题关键词：\\n\\n1. 靶向药\\n2. 化疗\\n3. 放疗\\n4. 脑转移\\n5. 副作用\\n6. 咳嗽\\n7. 埃万妥单抗\\n8. 多西他赛\\n9. 阿得贝利\\n10. 康复新液\\n11. 金银花茶\\n12. 血常规\\n13. 肌酐\\n14. 乳酸脱氢酶\\n15. 皮疹\\n16. 卤米松软膏\\n17. 蛋白粉\\n18. 菊花茶\\n19. 坐诊\\n20. 崩溃', '根据评论内容，以下是用户评论的主要主题关键词：\\n\\n1. 生死\\n2. 生命周期\\n3. 人生\\n4. 疾病\\n5. 衰老\\n6. 接受\\n7. 癌症\\n8. 死亡\\n9. 传统\\n10. 压力\\n11. 健康\\n12. 家庭\\n13. 旅游\\n14. 衰老\\n15. 时光\\n16. 生命意义\\n17. 人生经历\\n18. 生命价值\\n19. 疾病与治疗\\n20. 家庭责任\\n21. 心态\\n22. 人生选择\\n23. 生命态度\\n24. 人生感悟\\n25. 生活哲学', '关键词：年龄，时间，生命，岁月，心态，生活，经历，命运，感悟，情感，奇迹，亲情，健康，亲情，父母，金钱，存钱，安排，希望，陪伴。', '用户的评论主题关键词包括：\\n\\n1. 饮食：糊糊、鸡蛋、青菜、杂粮、二米饭、黄瓜、炒青菜、炒腰花、西红柿炒豆腐干、小肠青菜汤、排骨糯米饭、四季豆、蔬菜杂烩。\\n\\n2. 身体状况：气喘、咳嗽、乏力、食物不佳、肺部斑斑点点的看不清本来的样貌、肝部有数不清的小白点、肺癌种类、肺癌晚期、化疗、高质量生存期、体感更好。\\n\\n3. 医学治疗：穿刺肝部查看肺癌种类以及是否有新的基因突变、双免疫、帕雷利珠、白蛋白➕紫杉醇。', '1. 基因检测\\n2. 靶向治疗\\n3. 肺癌\\n4. 骨转移\\n5. 脑转移\\n6. CEA\\n7. 纵隔淋巴结\\n8. 胸膜\\n9. 手术\\n10. 放疗\\n11. 消融治疗\\n12. 磨玻璃结节', '关键词：出院，胜利的曙光，病友，治疗经验，头晕，腿软，奢睡，脑膜转移，脑转移，伏美替尼，卡博替尼，3759，奥西替尼，代搞，945，副反应，血脂血糖血压，浮肿，日子，继续，治疗，调整，专家，放疗，后遗症，小红书，化疗，副作用，医生，决定，纠结，耻骨转移，地舒单抗，换药，骨转移', '1. 3A\\n2. 肺鳞癌\\n3. 甲状腺功能异常\\n4. 治疗\\n5. 副反应\\n6. 感冒\\n7. 菜谱\\n8. 成功\\n9. 沉得住气\\n10. 机遇\\n11. 成功者\\n12. 厚积薄发\\n13. 北京之行\\n14. 病友建议\\n15. 不抛弃不放弃', '关键词：生活、保研、考研、出国留学、家庭条件、学校、竞争、努力、老师、推荐信、申请学校、认可、压力、化疗、医嘱、医院、医生、病人、生命、常识、安可达、贝伐、稳定、肺部、脑部、转移、检验科、笔误。', '关键词：EGFR19、免疫组化、c-met、赛沃、复查、病灶缩小、医生建议、群友交流、基因检测、met、注意事项。', '术后复查、病情进展、脑膜转移、鞘注、脑脊液检测、疼痛缓解、舒沃替尼、伏美替尼、痔疮、饮食问题、陪护、复查效果、奥西、赛沃5289.9元一盒、c-met3+。', '主题关键词：妈妈、爸爸、肺腺癌、放疗、化疗、临床、针灸、艾灸、奥希联阿发、肿标、蝴蝶、努力、梦想。', '完全缓解（CR）、部分缓解（PR）、疾病稳定（SD）、疾病进展（PD）、客观缓解、焦虑、睡眠、病情进展、pdl1低表达', '主题关键词：民宿经营、价格、客人素质、客服、琐事、乒乓球、锻炼身体、场馆距离、费用、社交圈、良师益友、人生道路、圈子选择、医院、病情、癌痛、地舒单抗注射液、疗程、情绪、家庭、老爸、癌痛难受、生活压力。', '主题关键词：\\n1. 免疫治疗\\n2. 检查结果\\n3. 血常规\\n4. 影像报告\\n5. 主治医生\\n6. 靶向药\\n7. 异地\\n8. 下周\\n9. 一切正常', '关键词:\\n\\n1. 回家上岗\\n2. 皮疹\\n3. 复查\\n4. 肺癌\\n5. 阿来替尼\\n6. 痤疮样皮疹\\n7. 口腔溃疡\\n8. 恶心呕吐\\n9. 食欲减退', '关键词：\\n1. 胸腺鳞癌\\n2. 淋巴和骨转移\\n3. 卡铂\\n4. 紫杉醇\\n5. 地舒单抗\\n6. 化疗\\n7. 免疫治疗\\n8. PDL-1数值\\n9. 病情稳定\\n10. 觅健平台\\n11. 后续治疗方案\\n12. 放疗\\n13. 免疫治疗方案\\n14. 觅健上SNOOP大神的治疗方案\\n15. 牙痛\\n16. 肺癌晚期\\n17. 大城市医院\\n18. 头部磁共振\\n19. 基因检测\\n20. 阿美替尼\\n21. 腹泻\\n22. 体重增加\\n23. 耐药\\n24. 体感\\n25. 脑部转移瘤\\n26. 化疗效果\\n27. MR检查\\n28. 基因检测结果', '关键词：睡眠，心情，家庭琐事，饮食，药物，复查，家庭，教育，普法，药盒，自信，自强，热爱，积极，阳光，早安。', '1. 脑部肿瘤\\n2. 肿瘤治疗\\n3. 肿瘤副作用\\n4. 顺其自然\\n5. 肿瘤患者心态\\n6. 肺癌\\n7. 肺癌治疗\\n8. 肺癌患者心态\\n9. 新冠疫苗\\n10. 医院发热门诊', '关键词:\\n\\n1. 辽宁男篮王朝时代来临！\\n2. 觅健的保障\\n3. 化疗\\n4. 免疫治疗\\n5. 晚期肺癌\\n6. 单免疫治疗\\n7. 靶向药\\n8. 复查\\n9. 副作用处理\\n10. 医生支持\\n11. 家庭理解\\n12. 旅游愿望', '1. 接受\\n2. 遗憾\\n3. 人生\\n4. 生活\\n5. 爱情\\n6. 成长\\n7. 改变\\n8. 选择\\n9. 忘记\\n10. 接受\\n11. 孤独\\n12. 挫败\\n13. 焦虑\\n14. 困惑\\n15. 成长\\n16. 后悔\\n17. 标准答案\\n18. 完美人生\\n19. 遗憾\\n20. 人生\\n21. 成长\\n22. 接受\\n23. 改变\\n24. 选择\\n25. 忘记', '关键词：早餐、结节、肿标、医生、化疗、副作用、凝血指标、尿酸、尿液、肿瘤、二线治疗、吃药、食欲、复诊、观察、做饭、虾球、牛肉、挫败感、坎坷。', '根据文本内容，用户评论的主要主题关键词如下：\\n\\n1. 肿瘤标志物\\n2. 放疗\\n3. 肿瘤\\n4. 肿瘤标志物\\n5. 化疗\\n6. 睡眠\\n7. 饮食\\n8. 肺癌\\n9. 癌症\\n10. 瑞普替尼\\n11. 靶向药\\n12. 疗效\\n13. 副作用\\n14. 治疗\\n15. 生存期\\n16. 耐药\\n17. 入脑能力\\n18. 老年人\\n19. 亲情\\n20. 运动会', '1. 热度\\n2. 阅读\\n3. 人生\\n4. 马拉松\\n5. 积极\\n6. 上进\\n7. 乐观\\n8. 升白针\\n9. 地榆升白片\\n10. 利可君', '根据提供的文本，我总结了以下几个主题关键词：\\n\\n1. 鼻血\\n2. 奥西替尼\\n3. 鼻子里结痂\\n4. 鼻血止住\\n5. 樱桃\\n6. 有趣的灵魂\\n7. 生活有趣\\n8. 求诊\\n9. 医生\\n10. 病友\\n11. 化疗\\n12. 免疫\\n13. 手术\\n14. 病理\\n15. 复发风险\\n16. 化疗副作用\\n17. 术后治疗', '用户评论的主题关键词：\\n\\n1. 肺癌\\n2. 靶向治疗\\n3. 免疫治疗\\n4. 化疗\\n5. 基因检测\\n6. 手术治疗\\n7. 放疗\\n8. 术后辅助治疗\\n9. 生活质量\\n10. 家庭关系\\n11. 群组交流\\n12. 入坑风险', '用户的评论主题关键词如下：\\n\\n1. 健康饮食\\n2. 抗癌心态\\n3. 生命旅程\\n4. 生活珍惜\\n5. 文字记录', '关键词：\\n1. 乳腺癌\\n2. 骨转移\\n3. 基因检测\\n4. 靶向治疗\\n5. 化疗\\n6. 腹泻\\n7. 肿瘤分期\\n8. 手术治疗\\n9. 饮食健康\\n10. 睡眠质量', '1. 术后两年\\n2. 晚餐\\n3. 医生\\n4. 雨天\\n5. 学习\\n6. 生活体验\\n7. 肺鳞癌\\n8. 知识面', '根据文本内容，用户的评论主要涉及到以下主题关键词：\\n\\n1. 父亲病情：评论中涉及父亲的年龄、病情、治疗过程和病情变化等。\\n2. 治疗选择：用户讨论了不同的治疗选择，包括化疗、放疗、免疫治疗、靶向治疗等。\\n3. 医生判断：用户对医生的诊断和治疗方案提出了质疑，强调需要考虑患者整体状况和多种检查结果。\\n4. 临床试验：用户提到了临床试验，并讨论了试验设计中的问题和不足之处。\\n5. 生命无常：用户通过分享经历，表达了对生命无常的感悟。\\n6. 身体反应：用户描述了自己和父亲的身体反应和症状，例如药物副作用、发烧等。\\n7. 治疗选择：用户讨论了治疗选择，包括化疗、放疗、免疫治疗、靶向治疗等。\\n8. 生命感悟：用户分享了对生命和疾病的感悟。\\n9. 家庭困难：用户表达了因病情和治疗带来的家庭困难，例如经济压力、照顾问题等。\\n10. 社会支持：用户也提到了社会和家人对他们的支持和帮助。', '关键词：父亲、母亲、护理、病床、阳光、手术、淋巴纵隔转移、降期手术、平稳期病人、生命、准备、命运。', '1. 生命\\n2. 准备\\n3. 迎接新鲜事\\n4. 命运\\n5. 经历\\n6. 豪赌\\n7. 主治医生\\n8. 省肿瘤\\n9. 临床试验\\n10. 药物\\n11. 方案可行性\\n12. 医生不透露\\n13. 成长\\n14. 初夏时节\\n15. 花开则败\\n16. 月满则亏\\n17. 顶峰\\n18. 走下坡路\\n19. 向上空间\\n20. 心情\\n21. 人生\\n22. 刚刚好', '根据提供的文本，以下是关键词总结：\\n\\n1. 肺腺癌晚期脑转\\n2. 靶向药物奥希替尼\\n3. 免疫信迪利\\n4. EGFR 858、21突变\\n5. 耐药后单化培美\\n6. 白紫\\n7. 双化不耐受\\n8. 培美+卡铂\\n9. 升血小板、升白针\\n10. 饮食打卡\\n11. 吃饺子\\n12. 苹果当午饭\\n13. 煮茄子面、青菜、煮鸡蛋\\n14. 愿大家都被爱着\\n15. nan', '关键词：\\n1. 血管输液\\n2. 输液港\\n3. 血管\\n4. 液体\\n5. 液体输液\\n6. 扎针\\n7. 扎针次数\\n8. 液体输液\\n9. 液体输液\\n10. 扎针次数\\n11. 扎针次数\\n12. 扎针次数\\n13. 扎针次数\\n14. 扎针次数\\n15. 扎针次数\\n16. 扎针次数\\n17. 扎针次数\\n18. 扎针次数\\n19. 扎针次数\\n20. 扎针次数\\n21. 扎针次数\\n22. 扎针次数\\n23. 扎针次数\\n24. 扎针次数\\n25. 扎针次数\\n26. 扎针次数\\n27. 扎针次数\\n28. 扎针次数\\n29. 扎针次数\\n30. 扎针次数\\n31. 扎针次数\\n32. 扎针次数\\n33. 扎针次数\\n34. 扎针次数\\n35. 扎针次数\\n36. 扎针次数\\n37. 扎针次数\\n38. 扎针次数\\n39. 扎针次数\\n40. 扎针次数\\n41. 扎针次数\\n42. 扎针次数\\n43. 扎针次数\\n44. 扎针次数\\n45. 扎针次数\\n46. 扎针次数\\n47. 扎针次数\\n48. 扎针次数\\n49. 扎针次数\\n50. 扎针次数', '关键词：化疗、治疗、柳暗花明、跌倒、辉煌、挫折、快乐、期待、日出、日落、太阳、希望、关心、旭日、东升、夕阳、大自然、摄影师、人生经历、珍惜。', '根据文本内容，用户评论的主要主题关键词包括：\\n\\n1. 父母健康问题\\n2. 医疗费用\\n3. 医疗资源\\n4. 医德\\n5. 医疗态度\\n6. 健康生活方式\\n7. 家庭关系\\n8. 生活态度', '主题关键词：\\n\\n1. 检查部位：胸椎、腰椎、骨盆、髋关节\\n2. 检查所见：椎间隙、椎间盘、黄韧带、脊髓、椎体、信号、异常\\n3. 诊断意见：异常信号、建议复查、血管瘤、转移瘤、骨质增生、椎间盘变性、膨出、骨盆MR平扫\\n4. 影片名称：陌路狂花钱\\n5. 活动：观看电影、制作面条、烹饪晚餐、听音乐\\n6. 感悟：陪伴家人、珍惜当下、反思人生价值', '关键词:\\n\\n1. 健康\\n2. 劳逸结合\\n3. 学习\\n4. 工作\\n5. 能量\\n6. 专注\\n7. 周末\\n8. 肿瘤科\\n9. 医疗记录\\n10. 医保卡\\n11. 健康保险\\n12. 风险\\n13. 劳逸平衡\\n14. 能量储备\\n15. 健康意识', '1. 生命修行\\n2. 父亲抗癌\\n3. 机会与勇气\\n4. 自卑心态\\n5. 乒乓球运动\\n6. 夏天露肉\\n7. 勇气与挑战', '关键词：雨巷，戴望舒，丁香，姑娘，雨声，茶，万物，温柔，诗意，畅想，雨中，慌乱，拿得起，放得下，邂逅，委婉缠绵，多情，妩媚，梦境，风微凉，清雅，丁香一样的姑娘，时光，射波刀，医生，病人，排队，ct影像，转移灶，射波刀大夫，晚期癌症，行医誓言，屠夫，收入，良心。', '用户的评论主题关键词包括：\\n\\n1. 健康问题：用户描述了自己的健康问题，包括癌症、疼痛、住院、检查等，表现出对健康的关注和担忧。\\n2. 家人和情绪：用户表达了对家人的牵挂和爱，同时也描述了自己在治疗过程中的负面情绪，如消沉、无力感等。\\n3. 治疗方案：用户讨论了自己父亲的病情，以及针对治疗方案的纠结和困惑。\\n4. 生活态度：用户以积极的态度面对生活的挑战，鼓励大家热爱生活，探寻生命的更多可能性。', '父母，病痛，生活困难，照顾父母，医疗费用，身体挑战，心情，健康饮食，散步，内心平静。', '', '用户的评论主题关键词有以下几个：\\n\\n1. 爱国教育\\n2. 爱国主义\\n3. 爱自己\\n4. 爱家人\\n5. 爱邻舍\\n6. 爱国家\\n7. 恒久忍耐\\n8. 恩慈\\n9. 真理\\n10. 包容\\n11. 相信\\n12. 盼望\\n13. 忍耐\\n14. 肺癌疾病\\n15. 热。', '关键词：\\n\\n1. 爸爸\\n2. 觅友们\\n3. 爸爸体感不错\\n4. 换了新的工作\\n5. 10化\\n6. 癌胚\\n7. 心情低落\\n8. 培美曲塞\\n9. 卡铂\\n10. 贝伐珠单抗\\n11. 阿来替尼靶向治疗\\n12. 肝肾功能检查\\n13. 谷丙转氨酶\\n14. 谷草转氨酶\\n15. 总胆红素\\n16. 直接胆红素\\n17. 化疗\\n18. 酒店\\n19. 浙江省肿瘤医院\\n20. 附近吃饭\\n21. 医院外面的小广告\\n22. 森林酒店\\n23. 走路\\n24. 耐药\\n25. 周边环境', '用户的评论主题关键词包括：民宿、客服、气费、客人、水电预存、拔河比赛、工作失误、药轮换、副作用、化疗、耐药。', '1. 疾病：患者在文中提到了老公心梗、自己患有肿瘤，需要做手术等，这些都是疾病相关的关键词。\\n2. 医院：文中多次提到医院，如省肿瘤医院、医院等，都是医院相关的关键词。\\n3. 医生：文中多次提到医生，如医生、医生水平、医生帮忙等，都是医生相关的关键词。\\n4. 病情：文中详细描述了患者的病情，如老公心梗、头疼呕吐、肿瘤标志物异常等，这些都是病情相关的关键词。\\n5. 父母：文中提到了母亲的病情，如母亲消瘦、母亲难受等，这些都是父母相关的关键词。', '关键词：病情、检查、治疗、肿瘤、进展、耐药、饮食、水、维生素、肿瘤侵袭、pH值、小苏打、苦杏仁苷、维生素B17、姜黄。', '', '根据用户评论的内容，我们可以总结出以下主题关键词：\\n\\n1. 肺癌：评论中有多位患者提到了自己或家人患有肺癌。\\n2. 治疗方案：评论中讨论了各种肺癌治疗方案，包括手术、化疗、靶向治疗、免疫治疗等。\\n3. 复发：有多位患者提到了肺癌复发的可能性，以及复发后的治疗方案。\\n4. 基因检测：多位患者提到了进行基因检测，以确定肺癌的分子分型和治疗方案。\\n5. 饮食：有患者在讨论肺癌患者的饮食建议。\\n6. 睡眠：有一位患者提到了肺癌治疗对睡眠的影响。\\n7. 咳嗽：有多位患者提到肺癌治疗后的咳嗽症状。\\n8. 声音嘶哑：有一位患者提到了肺癌治疗后的声音嘶哑症状。\\n9. 副作用：多位患者提到了肺癌治疗中的副作用。\\n10. 咨询：有多位患者在寻求其他患者的意见和建议。', '关键词：生活、快乐、充实、健康、饮食、睡眠、亲情、亲情、感恩、忙碌、聊天、散步、公园、自行车、超市、买菜、压力锅、红苋菜、手机、刷刷、午饭、视频、消食、午觉、电话、聊天、散步、跳交谊舞、吸氧、洗澡、内衣裤、洗澡巾、洗头洗澡、珊宝、妈妈、按摩、床上、睡觉、晨光、期待、步履不停、新的一天、早安。', '关键词:\\n\\n1. 出国医疗\\n2. 病假\\n3. 照顾病人\\n4. 老人\\n5. 洗头洗澡\\n6. 久病床前无孝子\\n7. 梦想\\n8. 现实\\n9. 理想\\n10. 山路\\n11. 星辰', '用户评论的主要主题关键词有：加油、好好吃饭、相信奇迹、许愿、复查、医院、血常规、肝肾功能、肿标、白血胞、CT。', '', '1. 培美\\n2. 贝伐\\n3. CT\\n4. 白紫\\n5. 卡铂\\n6. 用药\\n7. 效果\\n8. 淋巴结\\n9. 空窗期\\n10. 身体伤害', '关键词总结如下：\\n\\n1. 交通便捷：孩子回家时间缩短\\n2. 父母饮食起居：照顾父母\\n3. 照顾病人：照顾生病父母\\n4. 肿瘤复查：肿瘤复查经验分享\\n5. 营养不良：营养不良问题\\n6. 心理状态：心理状态的调整\\n7. 医疗治疗：医疗治疗经验分享\\n8. 身体健康：身体健康状况关注']\n"
     ]
    }
   ],
   "source": [
    "# List to store the summarized keywords\n",
    "keywords_list = []\n",
    "\n",
    "# Loop to read the contents of each text file and summarize the theme keywords\n",
    "for i in range(1, 100):  # Adjust the range as necessary\n",
    "    file_path = os.path.join(input_dir, f'{output_prefix}{i}.txt')\n",
    "    if not os.path.exists(file_path):\n",
    "        break\n",
    "    \n",
    "    print(\"file_path: \",file_path)\n",
    "    with open(file_path, 'r', encoding='utf-8') as f:\n",
    "        text = f.read()\n",
    "        \n",
    "    # Prepare the document for summarization\n",
    "    documents = [Document(page_content=text)]\n",
    "    \n",
    "    # Split the document into chunks\n",
    "    docs = text_splitter.split_documents(documents)\n",
    "    \n",
    "    # Summarize the theme keywords\n",
    "    result = chain({\"input_documents\": docs}, return_only_outputs=True)\n",
    "    print(result)\n",
    "    \n",
    "    # Assuming result contains the summarized keywords\n",
    "    keywords = result.get('output_text', '')  # Adjust based on the actual key in the result\n",
    "    \n",
    "    # Add the keywords to the list\n",
    "    keywords_list.append(keywords)\n",
    "\n",
    "# Print the list of keywords\n",
    "print(keywords_list)\n",
    "\n",
    "# Optionally, save the keywords list to a file\n",
    "keywords_output_path = '/data1/dxw_data/llm/mkt_llm/mkt_medicine/keywords_list.txt'\n",
    "with open(keywords_output_path, 'w', encoding='utf-8') as f:\n",
    "    for keywords in keywords_list:\n",
    "        f.write(f\"{keywords}\\n\")"
   ]
  }
 ],
 "metadata": {
  "kernelspec": {
   "display_name": "agentllm",
   "language": "python",
   "name": "python3"
  },
  "language_info": {
   "codemirror_mode": {
    "name": "ipython",
    "version": 3
   },
   "file_extension": ".py",
   "mimetype": "text/x-python",
   "name": "python",
   "nbconvert_exporter": "python",
   "pygments_lexer": "ipython3",
   "version": "3.8.19"
  }
 },
 "nbformat": 4,
 "nbformat_minor": 2
}
