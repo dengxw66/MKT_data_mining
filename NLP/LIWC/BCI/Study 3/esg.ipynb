{
 "cells": [
  {
   "cell_type": "code",
   "execution_count": 3,
   "metadata": {},
   "outputs": [
    {
     "name": "stderr",
     "output_type": "stream",
     "text": [
      "计算BCI值: 100%|██████████| 1493/1493 [01:54<00:00, 12.99it/s]\n"
     ]
    }
   ],
   "source": [
    "import pandas as pd\n",
    "from tqdm import tqdm\n",
    "from sklearn.preprocessing import StandardScaler\n",
    "import json\n",
    "\n",
    "# Load the CSV file\n",
    "file_path = '/data1/dxw_data/llm/RA/hku_ivy/esg_variable/LIWC-22-Factiva_tw_final_match-TXT.csv'\n",
    "data = pd.read_csv(file_path)\n",
    "\n",
    "# Load and clean Brysbaert concreteness scores\n",
    "brysbaert = pd.read_csv('/data1/dxw_data/llm/MKT_data_mining/NLP/LIWC/BCI/R_Functions/brysbaert.txt', sep='\\t')\n",
    "brysbaert['Conc.M'] = pd.to_numeric(brysbaert['Conc.M'], errors='coerce')\n",
    "brysbaert = brysbaert.dropna(subset=['Conc.M'])\n",
    "\n",
    "# Define the BCI calculation function\n",
    "def brysbaert_calculator(texts, keep):\n",
    "    scores = []\n",
    "    for text in tqdm(texts, desc=\"计算BCI值\"):\n",
    "        words = str(text).lower().split()\n",
    "        filtered_words = [word for word in words if word in keep]\n",
    "        bryscore = sum(brysbaert.loc[brysbaert['Word'].isin(filtered_words), 'Conc.M'])\n",
    "        word_count = len(filtered_words)\n",
    "        if word_count > 0:\n",
    "            bryscore /= word_count\n",
    "        scores.append(bryscore)\n",
    "    return scores\n",
    "\n",
    "# Apply BCI calculation to post_content column\n",
    "data['BCI_score'] = brysbaert_calculator(data['TXT'], brysbaert['Word'].tolist())\n",
    "\n",
    "# Save the updated DataFrame back to the CSV file\n",
    "data.to_csv(file_path, index=False)\n"
   ]
  }
 ],
 "metadata": {
  "kernelspec": {
   "display_name": "agent",
   "language": "python",
   "name": "python3"
  },
  "language_info": {
   "codemirror_mode": {
    "name": "ipython",
    "version": 3
   },
   "file_extension": ".py",
   "mimetype": "text/x-python",
   "name": "python",
   "nbconvert_exporter": "python",
   "pygments_lexer": "ipython3",
   "version": "3.8.19"
  }
 },
 "nbformat": 4,
 "nbformat_minor": 2
}
