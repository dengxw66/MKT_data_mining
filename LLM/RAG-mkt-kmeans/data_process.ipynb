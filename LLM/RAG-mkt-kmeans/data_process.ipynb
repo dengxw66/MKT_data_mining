{
 "cells": [
  {
   "cell_type": "code",
   "execution_count": 8,
   "metadata": {},
   "outputs": [
    {
     "name": "stdout",
     "output_type": "stream",
     "text": [
      "Data cleaning complete. Cleaned data saved to: /data1/dxw_data/llm/RAG-mkt-kmeans/data/cleaned_comments_dianping_hotpot.xlsx\n"
     ]
    }
   ],
   "source": [
    "# 返回单词保存\n",
    "\n",
    "import pandas as pd\n",
    "import jieba\n",
    "import string\n",
    "import re\n",
    "import emoji\n",
    "\n",
    "# Function to load stopwords\n",
    "def load_stopwords(stopwords_file_path):\n",
    "    with open(stopwords_file_path, 'r', encoding='utf-8') as f:\n",
    "        stopwords = set(f.read().splitlines())\n",
    "    return stopwords\n",
    "\n",
    "# Function to remove emojis\n",
    "def remove_emojis(text):\n",
    "    return emoji.replace_emoji(text, replace='')\n",
    "\n",
    "# Function to clean text\n",
    "def clean_text(text, stopwords):\n",
    "    # Remove emojis\n",
    "    text = remove_emojis(text)\n",
    "    # Remove English letters\n",
    "    text = re.sub(r'[A-Za-z]', '', text)\n",
    "    # Remove punctuation and special characters\n",
    "    text = re.sub(r'[{}]+'.format(string.punctuation), '', text)\n",
    "    # Remove digits\n",
    "    text = re.sub(r'\\d+', '', text)\n",
    "    # Remove extra whitespace\n",
    "    text = re.sub(r'\\s+', ' ', text).strip()\n",
    "    # Tokenize and remove stopwords\n",
    "    words = jieba.lcut(text)\n",
    "    words = [word for word in words if word not in stopwords and word.strip()]\n",
    "    return ' '.join(words)\n",
    "\n",
    "# Load data\n",
    "excel_file_path = \"/data1/dxw_data/llm/RAG-mkt-kmeans/data/raw_content_dianping_hotpot.xlsx\"\n",
    "df = pd.read_excel(excel_file_path)\n",
    "\n",
    "# Load stopwords\n",
    "stopwords_file_path = \"/data1/dxw_data/llm/ML/LIWC/datasets/stopwords_cn.txt\"\n",
    "stopwords = load_stopwords(stopwords_file_path)\n",
    "\n",
    "# Clean the \"comment\" column\n",
    "df['cleaned_comment'] = df['comment'].apply(lambda x: clean_text(str(x), stopwords))\n",
    "\n",
    "# Save the cleaned data to a new Excel file\n",
    "output_file_path = \"/data1/dxw_data/llm/RAG-mkt-kmeans/data/cleaned_comments_dianping_hotpot.xlsx\"\n",
    "df.to_excel(output_file_path, index=False)\n",
    "\n",
    "print(\"Data cleaning complete. Cleaned data saved to:\", output_file_path)\n"
   ]
  },
  {
   "cell_type": "code",
   "execution_count": 2,
   "metadata": {},
   "outputs": [
    {
     "name": "stderr",
     "output_type": "stream",
     "text": [
      "Building prefix dict from the default dictionary ...\n",
      "Loading model from cache /tmp/jieba.cache\n",
      "Loading model cost 0.631 seconds.\n",
      "Prefix dict has been built successfully.\n"
     ]
    },
    {
     "name": "stdout",
     "output_type": "stream",
     "text": [
      "Data cleaning complete. Cleaned data saved to: /data1/dxw_data/llm/RAG-mkt-kmeans/data/cleaned_comments_dianping_hotpot.txt\n"
     ]
    }
   ],
   "source": [
    "\n",
    "# 返回句子保存\n",
    "\n",
    "import pandas as pd\n",
    "import jieba\n",
    "import string\n",
    "import re\n",
    "import emoji\n",
    "\n",
    "# Function to load stopwords\n",
    "def load_stopwords(stopwords_file_path):\n",
    "    with open(stopwords_file_path, 'r', encoding='utf-8') as f:\n",
    "        stopwords = set(f.read().splitlines())\n",
    "    return stopwords\n",
    "\n",
    "# Function to remove emojis\n",
    "def remove_emojis(text):\n",
    "    return emoji.replace_emoji(text, replace='')\n",
    "\n",
    "# Function to clean text\n",
    "def clean_text(text, stopwords):\n",
    "    # Remove emojis\n",
    "    text = remove_emojis(text)\n",
    "    # Remove English letters\n",
    "    text = re.sub(r'[A-Za-z]', '', text)\n",
    "    # Remove punctuation and special characters\n",
    "    text = re.sub(r'[{}]+'.format(string.punctuation), '', text)\n",
    "    # Remove digits\n",
    "    text = re.sub(r'\\d+', '', text)\n",
    "    # Remove extra whitespace\n",
    "    text = re.sub(r'\\s+', ' ', text).strip()\n",
    "    # Tokenize, remove stopwords, and join back to sentence\n",
    "    words = jieba.lcut(text)\n",
    "    cleaned_text = ''.join([word for word in words if word not in stopwords and word.strip()])\n",
    "    return cleaned_text\n",
    "\n",
    "# Load data\n",
    "excel_file_path = \"/data1/dxw_data/llm/RAG-mkt-kmeans/data/raw_content_dianping_hotpot.xlsx\"\n",
    "df = pd.read_excel(excel_file_path)\n",
    "\n",
    "# Load stopwords\n",
    "stopwords_file_path = \"/data1/dxw_data/llm/ML/LIWC/datasets/stopwords_cn.txt\"\n",
    "stopwords = load_stopwords(stopwords_file_path)\n",
    "\n",
    "# Clean the \"comment\" column\n",
    "df['cleaned_comment'] = df['comment'].apply(lambda x: clean_text(str(x), stopwords))\n",
    "\n",
    "# Save the cleaned data to a new Excel file\n",
    "output_file_path = \"/data1/dxw_data/llm/RAG-mkt-kmeans/data/cleaned_comments_dianping_hotpot.xlsx\"\n",
    "df.to_excel(output_file_path, index=False)\n",
    "\n",
    "# # Save the cleaned comments to a TXT file\n",
    "# output_file_path = \"/data1/dxw_data/llm/RAG-mkt-kmeans/data/cleaned_comments_dianping_hotpot.txt\"\n",
    "# with open(output_file_path, 'w', encoding='utf-8') as f:\n",
    "#     for comment in df['cleaned_comment']:\n",
    "#         f.write(comment + '\\n')\n",
    "\n",
    "# print(\"Data cleaning complete. Cleaned data saved to:\", output_file_path)\n"
   ]
  }
 ],
 "metadata": {
  "kernelspec": {
   "display_name": "agent",
   "language": "python",
   "name": "python3"
  },
  "language_info": {
   "codemirror_mode": {
    "name": "ipython",
    "version": 3
   },
   "file_extension": ".py",
   "mimetype": "text/x-python",
   "name": "python",
   "nbconvert_exporter": "python",
   "pygments_lexer": "ipython3",
   "version": "3.8.19"
  }
 },
 "nbformat": 4,
 "nbformat_minor": 2
}
