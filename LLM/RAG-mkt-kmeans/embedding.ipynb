{
 "cells": [
  {
   "cell_type": "code",
   "execution_count": 2,
   "metadata": {},
   "outputs": [
    {
     "name": "stdout",
     "output_type": "stream",
     "text": [
      "数据已保存到 /data1/dxw_data/llm/RAG-mkt-kmeans/data/cleaned_comments_dianping_hotpot.json！\n"
     ]
    }
   ],
   "source": [
    "import pandas as pd\n",
    "import json\n",
    "\n",
    "# 读取Excel文件\n",
    "excel_path = '/data1/dxw_data/llm/RAG-mkt-kmeans/data/cleaned_comments_dianping_hotpot.xlsx'  # 替换为你的Excel文件路径\n",
    "sheet_name = 'Sheet1'  # 替换为你的Sheet名称\n",
    "\n",
    "# 读取指定列\n",
    "df = pd.read_excel(excel_path, sheet_name=sheet_name, usecols=['cleaned_comment'])\n",
    "\n",
    "# 将列数据转换为列表，并处理datetime对象\n",
    "def convert_to_serializable(val):\n",
    "    if isinstance(val, pd.Timestamp):\n",
    "        return val.strftime('%Y-%m-%d')\n",
    "    return str(val)  # 将所有非字符串类型转换为字符串\n",
    "\n",
    "title_4_list = df['cleaned_comment'].dropna().apply(convert_to_serializable).tolist()\n",
    "\n",
    "# 保存为JSON文件\n",
    "json_path = '/data1/dxw_data/llm/RAG-mkt-kmeans/data/cleaned_comments_dianping_hotpot.json'  # 替换为你的输出JSON文件路径\n",
    "with open(json_path, 'w', encoding='utf-8') as f:\n",
    "    json.dump(title_4_list, f, ensure_ascii=False, indent=4)\n",
    "\n",
    "print(f\"数据已保存到 {json_path}！\")\n"
   ]
  },
  {
   "cell_type": "code",
   "execution_count": 2,
   "metadata": {},
   "outputs": [
    {
     "name": "stderr",
     "output_type": "stream",
     "text": [
      "No sentence-transformers model found with name /data1/dxw_data/llm/text2vec-large-chinese. Creating a new one with MEAN pooling.\n",
      "/home/dxw/anaconda3/envs/agent/lib/python3.8/site-packages/sklearn/cluster/_kmeans.py:1416: FutureWarning: The default value of `n_init` will change from 10 to 'auto' in 1.4. Set the value of `n_init` explicitly to suppress the warning\n",
      "  super()._check_params_vs_input(X, default_n_init=10)\n"
     ]
    },
    {
     "name": "stdout",
     "output_type": "stream",
     "text": [
      "Clustering and representative text extraction complete. Results saved to:\n",
      "Clustering results: /data1/dxw_data/llm/RAG-mkt-kmeans/data/clustering_results.json\n",
      "Representative texts: /data1/dxw_data/llm/RAG-mkt-kmeans/data/representative_texts.json\n"
     ]
    }
   ],
   "source": [
    "import json\n",
    "import numpy as np\n",
    "from sklearn.cluster import KMeans\n",
    "from sentence_transformers import SentenceTransformer\n",
    "\n",
    "# Load the JSON file\n",
    "json_file_path = \"/data1/dxw_data/llm/RAG-mkt-kmeans/data/cleaned_comments_dianping_hotpot.json\"\n",
    "with open(json_file_path, 'r', encoding='utf-8') as f:\n",
    "    data = json.load(f)\n",
    "\n",
    "# Load the pre-trained model\n",
    "model_path = '/data1/dxw_data/llm/text2vec-large-chinese'\n",
    "model = SentenceTransformer(model_path)\n",
    "\n",
    "# Convert each element in the JSON file to a vector\n",
    "vectors = model.encode(data)\n",
    "\n",
    "# Perform KMeans clustering\n",
    "num_clusters = 20\n",
    "kmeans = KMeans(n_clusters=num_clusters, random_state=0)\n",
    "kmeans.fit(vectors)\n",
    "\n",
    "# Get cluster labels\n",
    "labels = kmeans.labels_\n",
    "\n",
    "# Save clustering results\n",
    "results = {\"text\": data, \"cluster\": labels.tolist()}\n",
    "output_file_path = \"/data1/dxw_data/llm/RAG-mkt-kmeans/data/clustering_results.json\"\n",
    "with open(output_file_path, 'w', encoding='utf-8') as f:\n",
    "    json.dump(results, f, ensure_ascii=False, indent=4)\n",
    "\n",
    "# Find the representative text for each cluster\n",
    "representatives = []\n",
    "for i in range(num_clusters):\n",
    "    cluster_indices = np.where(labels == i)[0]\n",
    "    cluster_vectors = vectors[cluster_indices]\n",
    "    cluster_center = kmeans.cluster_centers_[i]\n",
    "    distances = np.linalg.norm(cluster_vectors - cluster_center, axis=1)\n",
    "    representative_index = cluster_indices[np.argmin(distances)]\n",
    "    representatives.append(data[representative_index])\n",
    "\n",
    "# Save the representative texts\n",
    "representative_file_path = \"/data1/dxw_data/llm/RAG-mkt-kmeans/data/representative_texts.json\"\n",
    "with open(representative_file_path, 'w', encoding='utf-8') as f:\n",
    "    json.dump(representatives, f, ensure_ascii=False, indent=4)\n",
    "\n",
    "print(\"Clustering and representative text extraction complete. Results saved to:\")\n",
    "print(\"Clustering results:\", output_file_path)\n",
    "print(\"Representative texts:\", representative_file_path)\n"
   ]
  }
 ],
 "metadata": {
  "kernelspec": {
   "display_name": "agent",
   "language": "python",
   "name": "python3"
  },
  "language_info": {
   "codemirror_mode": {
    "name": "ipython",
    "version": 3
   },
   "file_extension": ".py",
   "mimetype": "text/x-python",
   "name": "python",
   "nbconvert_exporter": "python",
   "pygments_lexer": "ipython3",
   "version": "3.8.19"
  }
 },
 "nbformat": 4,
 "nbformat_minor": 2
}
