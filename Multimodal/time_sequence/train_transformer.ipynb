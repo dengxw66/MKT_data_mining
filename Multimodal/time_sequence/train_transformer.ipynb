{
 "cells": [
  {
   "cell_type": "code",
   "execution_count": 1,
   "metadata": {},
   "outputs": [
    {
     "name": "stderr",
     "output_type": "stream",
     "text": [
      "/home/dxw/anaconda3/envs/agent/lib/python3.8/site-packages/torchvision/models/_utils.py:208: UserWarning: The parameter 'pretrained' is deprecated since 0.13 and may be removed in the future, please use 'weights' instead.\n",
      "  warnings.warn(\n",
      "/home/dxw/anaconda3/envs/agent/lib/python3.8/site-packages/torchvision/models/_utils.py:223: UserWarning: Arguments other than a weight enum or `None` for 'weights' are deprecated since 0.13 and may be removed in the future. The current behavior is equivalent to passing `weights=None`.\n",
      "  warnings.warn(msg)\n"
     ]
    }
   ],
   "source": [
    "import json\n",
    "import os\n",
    "import torch\n",
    "import torch.nn as nn\n",
    "import torchvision.transforms as transforms\n",
    "from torchvision.models import resnet50\n",
    "from PIL import Image\n",
    "from gensim.models import KeyedVectors\n",
    "from sklearn.model_selection import train_test_split\n",
    "from sklearn.preprocessing import StandardScaler\n",
    "from sklearn.neural_network import MLPClassifier\n",
    "from sklearn.pipeline import make_pipeline\n",
    "import numpy as np\n",
    "from sklearn.metrics import mean_squared_error, accuracy_score\n",
    "\n",
    "# Load JSON file\n",
    "with open('/data1/dxw_data/llm/MKT_data_mining/Multimodal/data/captions_labeled_with_time.json', 'r') as f:\n",
    "    data = json.load(f)\n",
    "\n",
    "# Load pretrained ResNet\n",
    "resnet = resnet50(pretrained=False)\n",
    "resnet.load_state_dict(torch.load('/data1/dxw_data/llm/resnet/resnet50-19c8e357.pth'))\n",
    "resnet = nn.Sequential(*list(resnet.children())[:-1])  # Remove the classification layer\n",
    "resnet.eval()\n",
    "\n",
    "word2vec_path = '/data1/dxw_data/llm/word2vec/GoogleNews-vectors-negative300.bin.gz'\n",
    "word2vec_model  = KeyedVectors.load_word2vec_format(word2vec_path, binary=True)\n"
   ]
  },
  {
   "cell_type": "code",
   "execution_count": 2,
   "metadata": {},
   "outputs": [],
   "source": [
    "# Preprocess transforms for images\n",
    "transform = transforms.Compose([\n",
    "    transforms.Resize((224, 224)),\n",
    "    transforms.ToTensor(),\n",
    "    transforms.Normalize(mean=[0.485, 0.456, 0.406], std=[0.229, 0.224, 0.225])\n",
    "])\n",
    "\n",
    "# Function to apply mask, save the merged image, and extract image features\n",
    "def extract_imagemask_features(image_path, mask_path, cover_path):\n",
    "    image = Image.open(image_path).convert('RGB')\n",
    "    mask = Image.open(mask_path).convert('L')\n",
    "\n",
    "    # Apply mask to the image\n",
    "    image_np = np.array(image)\n",
    "    mask_np = np.array(mask)\n",
    "    masked_image_np = np.multiply(image_np, mask_np[:, :, None] / 255.0)\n",
    "    masked_image = Image.fromarray(masked_image_np.astype(np.uint8))\n",
    "\n",
    "    # Save the masked image\n",
    "    masked_image_save_path = os.path.join(cover_path, os.path.basename(image_path))\n",
    "    masked_image.save(masked_image_save_path)\n",
    "\n",
    "    # Apply transformations\n",
    "    masked_image = transform(masked_image).unsqueeze(0)\n",
    "\n",
    "    # Extract features using ResNet\n",
    "    with torch.no_grad():\n",
    "        features = resnet(masked_image).squeeze().numpy()\n",
    "    return features\n",
    "\n",
    "# Ensure the cover directory exists\n",
    "cover_path = '/data1/dxw_data/llm/redbook/cover'\n",
    "os.makedirs(cover_path, exist_ok=True)\n",
    "\n",
    "# Function to extract image features\n",
    "def extract_image_features(image_path):\n",
    "    image = Image.open(image_path).convert('RGB')\n",
    "    image = transform(image).unsqueeze(0)\n",
    "    with torch.no_grad():\n",
    "        features = resnet(image).squeeze().numpy()\n",
    "    return features\n",
    "\n",
    "# Function to extract text features\n",
    "def extract_text_features(caption):\n",
    "    words = caption.split()\n",
    "    word_vectors = []\n",
    "    for word in words:\n",
    "        if word in word2vec_model:\n",
    "            vector = word2vec_model[word]\n",
    "            word_vectors.append(vector)\n",
    "    if not word_vectors:\n",
    "        return np.zeros(word2vec_model.vector_size)\n",
    "    return np.mean(word_vectors, axis=0)\n",
    "\n",
    "# Prepare dataset\n",
    "image_features = []\n",
    "text_features = []\n",
    "mask_features= []\n",
    "labels = []\n",
    "times = []\n",
    "\n",
    "for item in data:\n",
    "    image_path = os.path.join('/data1/dxw_data/llm/redbook/data', item['image'])\n",
    "    mask_path = os.path.join('/data1/dxw_data/llm/redbook/processed', item['image'])\n",
    "    if os.path.exists(image_path) and os.path.exists(mask_path):\n",
    "        mask_feat = extract_imagemask_features(image_path, mask_path, cover_path)\n",
    "        img_feat = extract_image_features(image_path)\n",
    "        txt_feat = extract_text_features(item['caption'])\n",
    "        mask_features.append(mask_feat)\n",
    "        image_features.append(img_feat)\n",
    "        text_features.append(txt_feat)\n",
    "        labels.append(item['label'])\n",
    "        times.append(item['time'])\n",
    "\n",
    "\n",
    "# Device configuration\n",
    "device = torch.device('cuda:7' if torch.cuda.is_available() else 'cpu')\n",
    "\n",
    "# Convert to numpy arrays\n",
    "image_features = np.array(image_features)\n",
    "mask_features = np.array(mask_features)\n",
    "text_features = np.array(text_features)\n",
    "labels = np.array(labels)\n",
    "times = np.array(times)"
   ]
  },
  {
   "cell_type": "code",
   "execution_count": null,
   "metadata": {},
   "outputs": [],
   "source": [
    "# ---------------------------text和mask和image同时--------------------------- #"
   ]
  },
  {
   "cell_type": "code",
   "execution_count": 3,
   "metadata": {},
   "outputs": [
    {
     "name": "stdout",
     "output_type": "stream",
     "text": [
      "X.shape: (230, 2, 4396)\n",
      "y.shape: (230,)\n"
     ]
    }
   ],
   "source": [
    "# Combine image and text features\n",
    "combined_features = np.hstack((mask_features, image_features))\n",
    "combined_embeddings  = np.hstack((combined_features, text_features))\n",
    "\n",
    "# Sequence length for time series prediction\n",
    "sequence_length = 2\n",
    "\n",
    "# Create sequences for time series prediction\n",
    "def create_sequences(data, labels, times, seq_length):\n",
    "    xs, ys = [], []\n",
    "    for i in range(len(data) - seq_length):\n",
    "        # Ensure that we have at least `seq_length` consecutive time steps\n",
    "        if times[i+seq_length-1] - times[i] < seq_length:\n",
    "            x = data[i:i+seq_length]\n",
    "            y = labels[i+seq_length]\n",
    "            xs.append(x)\n",
    "            ys.append(y)\n",
    "    return np.array(xs), np.array(ys)\n",
    "\n",
    "X, y = create_sequences(combined_embeddings, labels, times, sequence_length)\n",
    "\n",
    "print(\"X.shape:\", X.shape)  # Expected to be non-zero\n",
    "print(\"y.shape:\", y.shape)  # Expected to be non-zero\n",
    "\n",
    "# Split the dataset into training and testing sets\n",
    "X_train, X_test, y_train, y_test = train_test_split(X, y, test_size=0.2, random_state=42)\n",
    "\n",
    "\n",
    "# Define the Transformer model\n",
    "class PositionalEncoding(nn.Module):\n",
    "    def __init__(self, d_model, max_len=5000):\n",
    "        super(PositionalEncoding, self).__init__()\n",
    "        pe = torch.zeros(max_len, d_model)\n",
    "        position = torch.arange(0, max_len, dtype=torch.float).unsqueeze(1)\n",
    "        div_term = torch.exp(torch.arange(0, d_model, 2).float() * (-np.log(10000.0) / d_model))\n",
    "        pe[:, 0::2] = torch.sin(position * div_term)\n",
    "        pe[:, 1::2] = torch.cos(position * div_term)\n",
    "        pe = pe.unsqueeze(0).transpose(0, 1)\n",
    "        self.register_buffer('pe', pe)\n",
    "\n",
    "    def forward(self, x):\n",
    "        return x + self.pe[:x.size(0), :]\n",
    "\n",
    "class TransformerModel(nn.Module):\n",
    "    def __init__(self, input_size, hidden_size, output_size, num_layers, nhead):\n",
    "        super(TransformerModel, self).__init__()\n",
    "        self.model_type = 'Transformer'\n",
    "        self.pos_encoder = PositionalEncoding(input_size)\n",
    "        self.encoder_layer = nn.TransformerEncoderLayer(d_model=input_size, nhead=nhead, dim_feedforward=hidden_size)\n",
    "        self.transformer_encoder = nn.TransformerEncoder(self.encoder_layer, num_layers=num_layers)\n",
    "        self.decoder = nn.Linear(input_size, output_size)\n",
    "\n",
    "    def forward(self, src):\n",
    "        src = self.pos_encoder(src)\n",
    "        output = self.transformer_encoder(src)\n",
    "        output = self.decoder(output[-1])\n",
    "        return output\n",
    "\n",
    "# Hyperparameters\n",
    "input_size = combined_embeddings.shape[1]\n",
    "hidden_size = 128\n",
    "output_size = 1  # Assuming binary classification (use appropriate value for your task)\n",
    "num_layers = 2\n",
    "num_heads = 4  # Number of heads in the multiheadattention models\n",
    "num_epochs = 20\n",
    "learning_rate = 0.001\n",
    "\n",
    "# Model, loss function, and optimizer\n",
    "model = TransformerModel(input_size, hidden_size, output_size, num_layers, num_heads).to(device)\n",
    "criterion = nn.MSELoss()  # For regression tasks\n",
    "# criterion = nn.BCELoss()  # For binary classification tasks\n",
    "optimizer = torch.optim.Adam(model.parameters(), lr=learning_rate)"
   ]
  },
  {
   "cell_type": "code",
   "execution_count": 6,
   "metadata": {},
   "outputs": [
    {
     "name": "stderr",
     "output_type": "stream",
     "text": [
      "/home/dxw/anaconda3/envs/agent/lib/python3.8/site-packages/torch/nn/modules/loss.py:536: UserWarning: Using a target size (torch.Size([184])) that is different to the input size (torch.Size([184, 1])). This will likely lead to incorrect results due to broadcasting. Please ensure they have the same size.\n",
      "  return F.mse_loss(input, target, reduction=self.reduction)\n"
     ]
    },
    {
     "name": "stdout",
     "output_type": "stream",
     "text": [
      "Epoch [1/20], Loss: 0.3735\n",
      "Epoch [2/20], Loss: 0.3108\n",
      "Epoch [3/20], Loss: 0.2749\n",
      "Epoch [4/20], Loss: 0.2708\n",
      "Epoch [5/20], Loss: 0.2940\n",
      "Epoch [6/20], Loss: 0.3296\n",
      "Epoch [7/20], Loss: 0.3613\n",
      "Epoch [8/20], Loss: 0.3447\n",
      "Epoch [9/20], Loss: 0.3196\n",
      "Epoch [10/20], Loss: 0.2890\n",
      "Epoch [11/20], Loss: 0.2686\n",
      "Epoch [12/20], Loss: 0.2705\n",
      "Epoch [13/20], Loss: 0.2731\n",
      "Epoch [14/20], Loss: 0.2922\n",
      "Epoch [15/20], Loss: 0.3052\n",
      "Epoch [16/20], Loss: 0.2987\n",
      "Epoch [17/20], Loss: 0.2910\n",
      "Epoch [18/20], Loss: 0.2763\n",
      "Epoch [19/20], Loss: 0.2658\n",
      "Epoch [20/20], Loss: 0.2669\n",
      "Test Loss: 0.2559\n",
      "Test Accuracy: 0.5435\n"
     ]
    }
   ],
   "source": [
    "from sklearn.metrics import mean_squared_error, accuracy_score\n",
    "# Train the model\n",
    "# Train the model\n",
    "for epoch in range(num_epochs):\n",
    "    model.train()\n",
    "    outputs = model(torch.tensor(X_train, dtype=torch.float32).to(device).permute(1, 0, 2))  # [seq_len, batch_size, input_size]\n",
    "    optimizer.zero_grad()\n",
    "    loss = criterion(outputs, torch.tensor(y_train, dtype=torch.float32).to(device))\n",
    "    loss.backward()\n",
    "    optimizer.step()\n",
    "    print(f'Epoch [{epoch+1}/{num_epochs}], Loss: {loss.item():.4f}')\n",
    "\n",
    "# Evaluate the model\n",
    "model.eval()\n",
    "with torch.no_grad():\n",
    "    predicted = model(torch.tensor(X_test, dtype=torch.float32).to(device).permute(1, 0, 2)).cpu().numpy()\n",
    "    test_loss = mean_squared_error(y_test, predicted)\n",
    "    print(f'Test Loss: {test_loss:.4f}')\n",
    "    \n",
    "    # If the task is classification, calculate accuracy\n",
    "    if output_size == 1:  # Adjust the condition based on your task\n",
    "        predicted_labels = (predicted > 0.5).astype(int)\n",
    "        y_test_labels = (y_test > 0.5).astype(int)\n",
    "        accuracy = accuracy_score(y_test_labels, predicted_labels)\n",
    "        print(f'Test Accuracy: {accuracy:.4f}')"
   ]
  },
  {
   "cell_type": "code",
   "execution_count": null,
   "metadata": {},
   "outputs": [],
   "source": [
    "# ---------------------------mask和image同时--------------------------- #"
   ]
  },
  {
   "cell_type": "code",
   "execution_count": null,
   "metadata": {},
   "outputs": [],
   "source": [
    "# ---------------------------mask和text同时--------------------------- #"
   ]
  },
  {
   "cell_type": "code",
   "execution_count": null,
   "metadata": {},
   "outputs": [],
   "source": [
    "# ---------------------------image和text同时--------------------------- #"
   ]
  },
  {
   "cell_type": "code",
   "execution_count": null,
   "metadata": {},
   "outputs": [],
   "source": [
    "# ---------------------------只用mask--------------------------- #"
   ]
  },
  {
   "cell_type": "code",
   "execution_count": 4,
   "metadata": {},
   "outputs": [],
   "source": [
    "# ---------------------------只用image--------------------------- #"
   ]
  },
  {
   "cell_type": "code",
   "execution_count": 6,
   "metadata": {},
   "outputs": [],
   "source": [
    "# ---------------------------只用text--------------------------- #\n",
    "\n",
    "# 其实也等价于多模态LLM模型合并图片文本--->文本"
   ]
  }
 ],
 "metadata": {
  "kernelspec": {
   "display_name": "agent",
   "language": "python",
   "name": "python3"
  },
  "language_info": {
   "codemirror_mode": {
    "name": "ipython",
    "version": 3
   },
   "file_extension": ".py",
   "mimetype": "text/x-python",
   "name": "python",
   "nbconvert_exporter": "python",
   "pygments_lexer": "ipython3",
   "version": "3.8.19"
  }
 },
 "nbformat": 4,
 "nbformat_minor": 2
}
