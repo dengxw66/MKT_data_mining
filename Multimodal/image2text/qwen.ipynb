{
 "cells": [
  {
   "cell_type": "code",
   "execution_count": 4,
   "metadata": {},
   "outputs": [
    {
     "name": "stderr",
     "output_type": "stream",
     "text": [
      "The model is automatically converting to bf16 for faster inference. If you want to disable the automatic precision, please manually add bf16/fp16/fp32=True to \"AutoModelForCausalLM.from_pretrained\".\n",
      "Loading checkpoint shards: 100%|██████████| 10/10 [00:16<00:00,  1.66s/it]\n"
     ]
    },
    {
     "name": "stdout",
     "output_type": "stream",
     "text": [
      "Picture 1: <img>https://qianwen-res.oss-cn-beijing.aliyuncs.com/Qwen-VL/assets/demo.jpeg</img>\n",
      "Generate the caption in English with grounding:<ref> Woman</ref><box>(451,379),(729,806)</box> playing with<ref> her dog</ref><box>(217,423),(582,897)</box> on the beach<|endoftext|>\n"
     ]
    }
   ],
   "source": [
    "from transformers import AutoModelForCausalLM, AutoTokenizer\n",
    "from transformers.generation import GenerationConfig\n",
    "import torch\n",
    "torch.manual_seed(1234)\n",
    "\n",
    "tokenizer = AutoTokenizer.from_pretrained(\"/data1/dxw_data/llm/Qwen-VL_model\", trust_remote_code=True)\n",
    "\n",
    "# 打开bf16精度，A100、H100、RTX3060、RTX3070等显卡建议启用以节省显存\n",
    "# model = AutoModelForCausalLM.from_pretrained(\"Qwen/Qwen-VL\", device_map=\"auto\", trust_remote_code=True, bf16=True).eval()\n",
    "# 打开fp16精度，V100、P100、T4等显卡建议启用以节省显存\n",
    "# model = AutoModelForCausalLM.from_pretrained(\"Qwen/Qwen-VL\", device_map=\"auto\", trust_remote_code=True, fp16=True).eval()\n",
    "# 使用CPU进行推理，需要约32GB内存\n",
    "# model = AutoModelForCausalLM.from_pretrained(\"Qwen/Qwen-VL\", device_map=\"cpu\", trust_remote_code=True).eval()\n",
    "# 默认gpu进行推理，需要约24GB显存\n",
    "model = AutoModelForCausalLM.from_pretrained(\"/data1/dxw_data/llm/Qwen-VL_model\", device_map=\"cuda\", trust_remote_code=True).eval()\n",
    "\n",
    "# 可指定不同的生成长度、top_p等相关超参（transformers 4.32.0及以上无需执行此操作）\n",
    "# model.generation_config = GenerationConfig.from_pretrained(\"Qwen/Qwen-VL\", trust_remote_code=True)\n",
    "\n",
    "query = tokenizer.from_list_format([\n",
    "    {'image': 'https://qianwen-res.oss-cn-beijing.aliyuncs.com/Qwen-VL/assets/demo.jpeg'}, # Either a local path or an url\n",
    "    {'text': 'Generate the caption in English with grounding:'},\n",
    "])\n",
    "inputs = tokenizer(query, return_tensors='pt')\n",
    "inputs = inputs.to(model.device)\n",
    "pred = model.generate(**inputs)\n",
    "response = tokenizer.decode(pred.cpu()[0], skip_special_tokens=False)\n",
    "print(response)\n",
    "# <img>https://qianwen-res.oss-cn-beijing.aliyuncs.com/Qwen-VL/assets/demo.jpeg</img>Generate the caption in English with grounding:<ref> Woman</ref><box>(451,379),(731,806)</box> and<ref> her dog</ref><box>(219,424),(576,896)</box> playing on the beach<|endoftext|>\n",
    "image = tokenizer.draw_bbox_on_latest_picture(response)\n",
    "if image:\n",
    "  image.save('2.jpg')\n",
    "else:\n",
    "  print(\"no box\")"
   ]
  }
 ],
 "metadata": {
  "kernelspec": {
   "display_name": "agent",
   "language": "python",
   "name": "python3"
  },
  "language_info": {
   "codemirror_mode": {
    "name": "ipython",
    "version": 3
   },
   "file_extension": ".py",
   "mimetype": "text/x-python",
   "name": "python",
   "nbconvert_exporter": "python",
   "pygments_lexer": "ipython3",
   "version": "3.8.19"
  }
 },
 "nbformat": 4,
 "nbformat_minor": 2
}
