{
 "cells": [
  {
   "cell_type": "code",
   "execution_count": 4,
   "metadata": {},
   "outputs": [
    {
     "name": "stderr",
     "output_type": "stream",
     "text": [
      "The model is automatically converting to bf16 for faster inference. If you want to disable the automatic precision, please manually add bf16/fp16/fp32=True to \"AutoModelForCausalLM.from_pretrained\".\n",
      "Loading checkpoint shards: 100%|██████████| 10/10 [00:16<00:00,  1.66s/it]\n"
     ]
    },
    {
     "name": "stdout",
     "output_type": "stream",
     "text": [
      "Picture 1: <img>https://qianwen-res.oss-cn-beijing.aliyuncs.com/Qwen-VL/assets/demo.jpeg</img>\n",
      "Generate the caption in English with grounding:<ref> Woman</ref><box>(451,379),(729,806)</box> playing with<ref> her dog</ref><box>(217,423),(582,897)</box> on the beach<|endoftext|>\n"
     ]
    }
   ],
   "source": [
    "from transformers import AutoModelForCausalLM, AutoTokenizer\n",
    "from transformers.generation import GenerationConfig\n",
    "import torch\n",
    "torch.manual_seed(1234)\n",
    "\n",
    "tokenizer = AutoTokenizer.from_pretrained(\"/data1/dxw_data/llm/Qwen-VL_model\", trust_remote_code=True)\n",
    "\n",
    "model = AutoModelForCausalLM.from_pretrained(\"/data1/dxw_data/llm/Qwen-VL_model\", device_map=\"cuda\", trust_remote_code=True).eval()\n",
    "\n",
    "\n",
    "query = tokenizer.from_list_format([\n",
    "    {'image': 'https://qianwen-res.oss-cn-beijing.aliyuncs.com/Qwen-VL/assets/demo.jpeg'}, # Either a local path or an url\n",
    "    {'text': 'Generate the caption in English with grounding:'},\n",
    "])\n",
    "inputs = tokenizer(query, return_tensors='pt')\n",
    "inputs = inputs.to(model.device)\n",
    "pred = model.generate(**inputs)\n",
    "response = tokenizer.decode(pred.cpu()[0], skip_special_tokens=False)\n",
    "print(response)\n",
    "# <img>https://qianwen-res.oss-cn-beijing.aliyuncs.com/Qwen-VL/assets/demo.jpeg</img>Generate the caption in English with grounding:<ref> Woman</ref><box>(451,379),(731,806)</box> and<ref> her dog</ref><box>(219,424),(576,896)</box> playing on the beach<|endoftext|>\n",
    "image = tokenizer.draw_bbox_on_latest_picture(response)\n",
    "if image:\n",
    "  image.save('2.jpg')\n",
    "else:\n",
    "  print(\"no box\")"
   ]
  },
  {
   "cell_type": "code",
   "execution_count": null,
   "metadata": {},
   "outputs": [],
   "source": [
    "# --------------------正式测试---------------------- #"
   ]
  },
  {
   "cell_type": "code",
   "execution_count": null,
   "metadata": {},
   "outputs": [],
   "source": [
    "from transformers import AutoModelForCausalLM, AutoTokenizer\n",
    "from transformers.generation import GenerationConfig\n",
    "import torch\n",
    "torch.manual_seed(1234)\n",
    "\n",
    "# Note: The default behavior now has injection attack prevention off.\n",
    "tokenizer = AutoTokenizer.from_pretrained(\"/data1/dxw_data/llm/Qwen-VL-Chat\", trust_remote_code=True)\n",
    "\n",
    "model = AutoModelForCausalLM.from_pretrained(\"/data1/dxw_data/llm/Qwen-VL-Chat\", device_map=\"cuda\", trust_remote_code=True).eval()\n",
    "\n",
    "# Specify hyperparameters for generation\n",
    "model.generation_config = GenerationConfig.from_pretrained(\"/data1/dxw_data/llm/Qwen-VL-Chat\", trust_remote_code=True)"
   ]
  },
  {
   "cell_type": "code",
   "execution_count": null,
   "metadata": {},
   "outputs": [],
   "source": [
    "import json\n",
    "# 例如：\n",
    "# tokenizer = AutoTokenizer.from_pretrained(\"your-model-name\")\n",
    "# model = AutoModelForSeq2SeqLM.from_pretrained(\"your-model-name\")\n",
    "\n",
    "def generate_captions(model, tokenizer, image_folder, num_images, output_file):\n",
    "    responses = []\n",
    "\n",
    "    for i in range(1, num_images + 1):  # 从1开始计数\n",
    "        query = tokenizer.from_list_format([\n",
    "            {'image': f'{image_folder}/{i}.png'}, \n",
    "            {'text': 'Generate some descriptions of the image'},\n",
    "        ])\n",
    "        response, history = model.chat(tokenizer, query=query, history=None)\n",
    "        print(response)\n",
    "        print(f\"-----------------第{i}次结束-----------------\")\n",
    "        responses.append({'image': f'{i}.png', 'caption': response})\n",
    "\n",
    "    # 保存到JSON文件\n",
    "    with open(output_file, 'w') as f:\n",
    "        json.dump(responses, f, ensure_ascii=False, indent=4)"
   ]
  },
  {
   "cell_type": "code",
   "execution_count": null,
   "metadata": {},
   "outputs": [],
   "source": [
    "# 使用示例\n",
    "image_folder = '/data1/dxw_data/llm/MKT_data_mining/Multimodal/image2text/input'\n",
    "num_images = 55\n",
    "output_file = 'captions.json'\n",
    "\n",
    "# 生成并保存caption\n",
    "generate_captions(model, tokenizer, image_folder, num_images, output_file)"
   ]
  }
 ],
 "metadata": {
  "kernelspec": {
   "display_name": "agent",
   "language": "python",
   "name": "python3"
  },
  "language_info": {
   "codemirror_mode": {
    "name": "ipython",
    "version": 3
   },
   "file_extension": ".py",
   "mimetype": "text/x-python",
   "name": "python",
   "nbconvert_exporter": "python",
   "pygments_lexer": "ipython3",
   "version": "3.8.19"
  }
 },
 "nbformat": 4,
 "nbformat_minor": 2
}
