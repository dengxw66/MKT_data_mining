{
 "cells": [
  {
   "cell_type": "code",
   "execution_count": 14,
   "metadata": {},
   "outputs": [],
   "source": [
    "from collections import Counter\n",
    "import jieba\n",
    "import re\n",
    "\n",
    "# 预定义的词典\n",
    "LIWC_dict = {\n",
    "    'positive_emotion': ['好吃', '喜欢', '美味'],\n",
    "    'negative_emotion': ['贵', '太贵了', '昂贵'],\n",
    "    # 可以添加更多类别和单词\n",
    "}\n",
    "\n",
    "# 和liwc软件的主要区别在于同义词的覆盖率和分类可能不足\n"
   ]
  },
  {
   "cell_type": "code",
   "execution_count": 15,
   "metadata": {},
   "outputs": [],
   "source": [
    "\n",
    "def tokenize(text):\n",
    "    # 使用 jieba 分词将文本分割为单词\n",
    "    words = jieba.lcut(text)\n",
    "    return words\n",
    "\n",
    "def match_word(word, pattern):\n",
    "    # 支持简单的词根匹配\n",
    "    if pattern.endswith('*'):\n",
    "        return word.startswith(pattern[:-1])\n",
    "    return word == pattern\n",
    "\n",
    "def analyze_text(file_path, LIWC_dict):\n",
    "    # 读取文本文件\n",
    "    with open(file_path, 'r', encoding='utf-8') as file:\n",
    "        text = file.read()\n",
    "\n",
    "    # 将文本拆分为单词\n",
    "    words = tokenize(text)\n",
    "    total_words = len(words)\n",
    "    unique_words = len(set(words))\n",
    "    sentences = re.split(r'[。！？]', text)  # 更复杂的分句方法\n",
    "    total_sentences = len(sentences)\n",
    "    avg_sentence_length = total_words / total_sentences if total_sentences > 0 else 0\n",
    "\n",
    "    # 计算每个类别的单词频率\n",
    "    category_freq = {category: 0 for category in LIWC_dict}\n",
    "    word_freq = Counter(words)\n",
    "\n",
    "    for category, category_patterns in LIWC_dict.items():\n",
    "        for pattern in category_patterns:\n",
    "            for word in words:\n",
    "                if match_word(word, pattern):\n",
    "                    category_freq[category] += 1\n",
    "    \n",
    "    # 计算百分比\n",
    "    category_percentage = {category: (freq / total_words) * 100 if total_words > 0 else 0 for category, freq in category_freq.items()}\n",
    "\n",
    "    # 输出结果\n",
    "    print(\"Category frequencies:\")\n",
    "    for category, freq in category_freq.items():\n",
    "        print(f\"{category}: {freq} ({category_percentage[category]:.2f}%)\")\n",
    "\n",
    "    print(f\"Total words: {total_words}\")\n",
    "    print(f\"Unique words: {unique_words}\")\n",
    "    print(f\"Total sentences: {total_sentences}\")\n",
    "    print(f\"Average sentence length: {avg_sentence_length:.2f}\")\n"
   ]
  },
  {
   "cell_type": "code",
   "execution_count": 17,
   "metadata": {},
   "outputs": [
    {
     "name": "stdout",
     "output_type": "stream",
     "text": [
      "Category frequencies:\n",
      "positive_emotion: 192 (1.75%)\n",
      "negative_emotion: 15 (0.14%)\n",
      "Total words: 10966\n",
      "Unique words: 2045\n",
      "Total sentences: 316\n",
      "Average sentence length: 34.70\n"
     ]
    }
   ],
   "source": [
    "# 指定文本文件路径\n",
    "file_path = '/data1/dxw_data/llm/mkt_llm/starbuck/starbuck_comments_all.txt'\n",
    "\n",
    "# 分析文本文件并输出各类别单词的频率\n",
    "analyze_text(file_path, LIWC_dict)"
   ]
  }
 ],
 "metadata": {
  "kernelspec": {
   "display_name": "agent",
   "language": "python",
   "name": "python3"
  },
  "language_info": {
   "codemirror_mode": {
    "name": "ipython",
    "version": 3
   },
   "file_extension": ".py",
   "mimetype": "text/x-python",
   "name": "python",
   "nbconvert_exporter": "python",
   "pygments_lexer": "ipython3",
   "version": "3.8.19"
  }
 },
 "nbformat": 4,
 "nbformat_minor": 2
}
