{
 "cells": [
  {
   "cell_type": "code",
   "execution_count": 2,
   "metadata": {},
   "outputs": [],
   "source": [
    "import pandas as pd\n",
    "import numpy as np\n",
    "import nltk\n",
    "from nltk.corpus import stopwords\n",
    "from nltk.tokenize import word_tokenize\n",
    "from nltk.stem import WordNetLemmatizer\n",
    "import gensim\n",
    "from gensim import corpora\n",
    "import pyLDAvis.gensim_models as gensimvis\n",
    "import pyLDAvis\n"
   ]
  },
  {
   "cell_type": "code",
   "execution_count": 3,
   "metadata": {},
   "outputs": [
    {
     "name": "stderr",
     "output_type": "stream",
     "text": [
      "[nltk_data] Downloading package punkt to /home/dxw/nltk_data...\n",
      "[nltk_data]   Package punkt is already up-to-date!\n",
      "[nltk_data] Downloading package stopwords to /home/dxw/nltk_data...\n",
      "[nltk_data]   Package stopwords is already up-to-date!\n",
      "[nltk_data] Downloading package wordnet to /home/dxw/nltk_data...\n",
      "[nltk_data]   Package wordnet is already up-to-date!\n"
     ]
    }
   ],
   "source": [
    "# 下载NLTK的资源\n",
    "nltk.download('punkt')\n",
    "nltk.download('stopwords')\n",
    "nltk.download('wordnet')\n",
    "\n",
    "# 读取文本文件\n",
    "with open('/data1/dxw_data/llm/mkt_llm/starbuck/starbuck_comments_1.txt', 'r', encoding='utf-8') as file:\n",
    "    long_text = file.read()\n",
    "\n",
    "# 文本预处理\n",
    "def preprocess(text):\n",
    "    # 分词\n",
    "    tokens = word_tokenize(text.lower())\n",
    "    # 去除停用词和非字母的词\n",
    "    stop_words = set(stopwords.words('english'))\n",
    "    tokens = [word for word in tokens if word.isalpha() and word not in stop_words]\n",
    "    # 词形还原\n",
    "    lemmatizer = WordNetLemmatizer()\n",
    "    tokens = [lemmatizer.lemmatize(word) for word in tokens]\n",
    "    return tokens"
   ]
  },
  {
   "cell_type": "code",
   "execution_count": 4,
   "metadata": {},
   "outputs": [],
   "source": [
    "# 对文本进行预处理\n",
    "processed_text = preprocess(long_text)\n",
    "\n",
    "# 创建词典和语料库\n",
    "dictionary = corpora.Dictionary([processed_text])\n",
    "corpus = [dictionary.doc2bow(processed_text)]\n",
    "\n",
    "# 构建LDA模型\n",
    "num_topics = 5  # 设定主题数\n",
    "lda_model = gensim.models.LdaModel(corpus, num_topics=num_topics, id2word=dictionary, passes=10)"
   ]
  },
  {
   "cell_type": "code",
   "execution_count": 5,
   "metadata": {},
   "outputs": [
    {
     "name": "stdout",
     "output_type": "stream",
     "text": [
      "Topic: 0\n",
      "Words: 0.050*\"口味\" + 0.050*\"环境\" + 0.027*\"以前上学时每次买面包\" + 0.027*\"性价比\" + 0.027*\"办了会员卡\" + 0.027*\"还记得以前名字叫金蝶轩\" + 0.027*\"从小学就开始吃的面包店啦\" + 0.027*\"料挺扎实的\" + 0.027*\"每周都会买几次当早餐\" + 0.027*\"价格实惠\"\n",
      "\n",
      "Topic: 1\n",
      "Words: 0.029*\"口味\" + 0.029*\"环境\" + 0.029*\"真材实料\" + 0.029*\"店家地址在宝安区\" + 0.029*\"老婆饼yyds\" + 0.029*\"肉松小贝味道不错\" + 0.029*\"买给孩子吃放心\" + 0.029*\"黑糖核桃吐司也很好吃\" + 0.029*\"很多面包没有了\" + 0.029*\"核桃香甜可口\"\n",
      "\n",
      "Topic: 2\n",
      "Words: 0.029*\"口味\" + 0.029*\"以前好吃\" + 0.029*\"砸招牌\" + 0.029*\"也没以前好吃了\" + 0.029*\"每周都会买几次当早餐\" + 0.029*\"现在感觉变贵好多了\" + 0.029*\"老婆饼好好吃\" + 0.029*\"店家地址在宝安区\" + 0.029*\"经常点御泥坊的面包\" + 0.029*\"御蝶坊的老顾客啦\"\n",
      "\n",
      "Topic: 3\n",
      "Words: 0.029*\"环境\" + 0.029*\"口味\" + 0.029*\"买给孩子吃放心\" + 0.029*\"老婆饼都好多人排队\" + 0.029*\"老婆饼yyds\" + 0.029*\"也没以前好吃了\" + 0.029*\"以前好吃\" + 0.029*\"现在感觉变贵好多了\" + 0.029*\"老婆饼好好吃\" + 0.029*\"算是老字号了吧\"\n",
      "\n",
      "Topic: 4\n",
      "Words: 0.029*\"有时需要排半个小时左右呢\" + 0.029*\"酥酥脆脆的\" + 0.029*\"口味\" + 0.029*\"环境\" + 0.029*\"也没以前好吃了\" + 0.029*\"老婆饼yyds\" + 0.029*\"一直买御蝶坊的面包\" + 0.029*\"算是老字号了吧\" + 0.029*\"办了会员卡\" + 0.029*\"核桃香甜可口\"\n",
      "\n"
     ]
    }
   ],
   "source": [
    "# 输出主题\n",
    "for idx, topic in lda_model.print_topics(-1):\n",
    "    print(f\"Topic: {idx}\\nWords: {topic}\\n\")\n",
    "\n",
    "# 修正后的LDA可视化部分\n",
    "def prepare_lda_vis_data(model, corpus, dictionary):\n",
    "    # 提取LDA模型数据\n",
    "    topic_term_dists = np.array(model.get_topics())\n",
    "    doc_topic_dists = np.array([[topic_prob for _, topic_prob in model.get_document_topics(bow, minimum_probability=0)] for bow in corpus])\n",
    "    doc_lengths = [sum(count for _, count in doc) for doc in corpus]\n",
    "    vocab = list(dictionary.token2id.keys())\n",
    "    term_frequency = np.array(list(dictionary.dfs.values()))\n",
    "    \n",
    "    return pyLDAvis.prepare(\n",
    "        topic_term_dists=topic_term_dists,\n",
    "        doc_topic_dists=doc_topic_dists,\n",
    "        doc_lengths=doc_lengths,\n",
    "        vocab=vocab,\n",
    "        term_frequency=term_frequency,\n",
    "        sort_topics=False\n",
    "    )\n"
   ]
  },
  {
   "cell_type": "code",
   "execution_count": null,
   "metadata": {},
   "outputs": [],
   "source": []
  }
 ],
 "metadata": {
  "kernelspec": {
   "display_name": "agent",
   "language": "python",
   "name": "python3"
  },
  "language_info": {
   "codemirror_mode": {
    "name": "ipython",
    "version": 3
   },
   "file_extension": ".py",
   "mimetype": "text/x-python",
   "name": "python",
   "nbconvert_exporter": "python",
   "pygments_lexer": "ipython3",
   "version": "3.8.19"
  }
 },
 "nbformat": 4,
 "nbformat_minor": 2
}
