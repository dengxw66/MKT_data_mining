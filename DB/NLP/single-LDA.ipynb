{
 "cells": [
  {
   "cell_type": "code",
   "execution_count": 1,
   "metadata": {},
   "outputs": [],
   "source": [
    "\n",
    "\n",
    "import jieba\n",
    "import pandas as pd\n",
    "import numpy as np\n",
    "import gensim\n",
    "from gensim import corpora\n",
    "import pyLDAvis.gensim_models as gensimvis\n",
    "import pyLDAvis"
   ]
  },
  {
   "cell_type": "code",
   "execution_count": 4,
   "metadata": {},
   "outputs": [],
   "source": [
    "# 读取文本文件\n",
    "with open('/data1/dxw_data/llm/mkt_llm/starbuck/starbuck_comments_1.txt', 'r', encoding='utf-8') as file:\n",
    "    long_text = file.read()\n",
    "\n",
    "# 停用词表\n",
    "stop_words = set()\n",
    "with open('/data1/dxw_data/llm/ML/LIWC/datasets/stopwords_cn.txt', 'r', encoding='utf-8') as file:\n",
    "    for line in file:\n",
    "        stop_words.add(line.strip())\n",
    "\n",
    "# 文本预处理\n",
    "def preprocess(text):\n",
    "    # 使用jieba分词\n",
    "    tokens = jieba.lcut(text)\n",
    "    #! 只保留两个字的词语\n",
    "    tokens = [word for word in tokens if word not in stop_words and len(word) == 2 and word.isalpha()]\n",
    "    return tokens"
   ]
  },
  {
   "cell_type": "code",
   "execution_count": 5,
   "metadata": {},
   "outputs": [
    {
     "name": "stderr",
     "output_type": "stream",
     "text": [
      "Building prefix dict from the default dictionary ...\n",
      "Loading model from cache /tmp/jieba.cache\n",
      "Loading model cost 0.608 seconds.\n",
      "Prefix dict has been built successfully.\n"
     ]
    }
   ],
   "source": [
    "# 对文本进行预处理\n",
    "processed_text = preprocess(long_text)\n",
    "\n",
    "# 创建词典和语料库\n",
    "dictionary = corpora.Dictionary([processed_text])\n",
    "corpus = [dictionary.doc2bow(processed_text)]\n",
    "\n",
    "# 构建LDA模型\n",
    "num_topics = 5  # 设定主题数\n",
    "lda_model = gensim.models.LdaModel(corpus, num_topics=num_topics, id2word=dictionary, passes=10)"
   ]
  },
  {
   "cell_type": "code",
   "execution_count": 6,
   "metadata": {},
   "outputs": [
    {
     "name": "stdout",
     "output_type": "stream",
     "text": [
      "Topic: 0\n",
      "Words: 0.004*\"好吃\" + 0.004*\"老婆\" + 0.004*\"不错\" + 0.004*\"面包\" + 0.004*\"喜欢\" + 0.004*\"真的\" + 0.004*\"推荐\" + 0.004*\"口味\" + 0.004*\"味道\" + 0.004*\"早餐\"\n",
      "\n",
      "Topic: 1\n",
      "Words: 0.005*\"好吃\" + 0.005*\"老婆\" + 0.004*\"不错\" + 0.004*\"面包\" + 0.004*\"真的\" + 0.004*\"早餐\" + 0.004*\"喜欢\" + 0.004*\"味道\" + 0.004*\"蛋糕\" + 0.004*\"感觉\"\n",
      "\n",
      "Topic: 2\n",
      "Words: 0.005*\"好吃\" + 0.005*\"老婆\" + 0.004*\"面包\" + 0.004*\"不错\" + 0.004*\"喜欢\" + 0.004*\"推荐\" + 0.004*\"真的\" + 0.004*\"味道\" + 0.004*\"一口\" + 0.004*\"每次\"\n",
      "\n",
      "Topic: 3\n",
      "Words: 0.047*\"好吃\" + 0.040*\"老婆\" + 0.028*\"面包\" + 0.026*\"不错\" + 0.021*\"喜欢\" + 0.017*\"推荐\" + 0.017*\"真的\" + 0.015*\"味道\" + 0.013*\"口味\" + 0.013*\"蛋挞\"\n",
      "\n",
      "Topic: 4\n",
      "Words: 0.005*\"老婆\" + 0.005*\"好吃\" + 0.004*\"不错\" + 0.004*\"喜欢\" + 0.004*\"面包\" + 0.004*\"推荐\" + 0.004*\"蛋挞\" + 0.004*\"味道\" + 0.004*\"真的\" + 0.004*\"口味\"\n",
      "\n"
     ]
    }
   ],
   "source": [
    "# 输出主题\n",
    "for idx, topic in lda_model.print_topics(-1):\n",
    "    print(f\"Topic: {idx}\\nWords: {topic}\\n\")\n",
    "\n",
    "# 修正后的LDA可视化部分\n",
    "def prepare_lda_vis_data(model, corpus, dictionary):\n",
    "    # 提取LDA模型数据\n",
    "    topic_term_dists = np.array(model.get_topics())\n",
    "    doc_topic_dists = np.array([[topic_prob for _, topic_prob in model.get_document_topics(bow, minimum_probability=0)] for bow in corpus])\n",
    "    doc_lengths = [sum(count for _, count in doc) for doc in corpus]\n",
    "    vocab = list(dictionary.token2id.keys())\n",
    "    term_frequency = np.array(list(dictionary.dfs.values()))\n",
    "    \n",
    "    return pyLDAvis.prepare(\n",
    "        topic_term_dists=topic_term_dists,\n",
    "        doc_topic_dists=doc_topic_dists,\n",
    "        doc_lengths=doc_lengths,\n",
    "        vocab=vocab,\n",
    "        term_frequency=term_frequency,\n",
    "        sort_topics=False\n",
    "    )\n",
    "\n"
   ]
  },
  {
   "cell_type": "code",
   "execution_count": null,
   "metadata": {},
   "outputs": [],
   "source": []
  }
 ],
 "metadata": {
  "kernelspec": {
   "display_name": "agent",
   "language": "python",
   "name": "python3"
  },
  "language_info": {
   "codemirror_mode": {
    "name": "ipython",
    "version": 3
   },
   "file_extension": ".py",
   "mimetype": "text/x-python",
   "name": "python",
   "nbconvert_exporter": "python",
   "pygments_lexer": "ipython3",
   "version": "3.8.19"
  }
 },
 "nbformat": 4,
 "nbformat_minor": 2
}
