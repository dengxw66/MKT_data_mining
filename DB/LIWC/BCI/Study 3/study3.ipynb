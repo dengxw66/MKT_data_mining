{
 "cells": [
  {
   "cell_type": "code",
   "execution_count": null,
   "metadata": {
    "vscode": {
     "languageId": "r"
    }
   },
   "outputs": [],
   "source": [
    "install.packages(\"reticulate\")\n",
    "install.packages(\"jsonlite\")\n",
    "install.packages(\"data.table\")\n",
    "install.packages(\"quanteda\")\n",
    "install.packages(\"Hmisc\")\n",
    "install.packages(\"lmSupport\")\n"
   ]
  },
  {
   "cell_type": "code",
   "execution_count": null,
   "metadata": {
    "vscode": {
     "languageId": "r"
    }
   },
   "outputs": [],
   "source": [
    "# ---------------------------------------------"
   ]
  },
  {
   "cell_type": "code",
   "execution_count": 3,
   "metadata": {
    "vscode": {
     "languageId": "r"
    }
   },
   "outputs": [
    {
     "data": {
      "text/plain": [
       "python:         D:/Anaconda/anaconda_software/envs/agent/python.exe\n",
       "libpython:      D:/Anaconda/anaconda_software/envs/agent/python39.dll\n",
       "pythonhome:     D:/Anaconda/anaconda_software/envs/agent\n",
       "version:        3.9.18 (main, Sep 11 2023, 14:09:26) [MSC v.1916 64 bit (AMD64)]\n",
       "Architecture:   64bit\n",
       "numpy:          D:/Anaconda/anaconda_software/envs/agent/Lib/site-packages/numpy\n",
       "numpy_version:  1.23.4\n",
       "\n",
       "NOTE: Python version was forced by use_python() function"
      ]
     },
     "metadata": {},
     "output_type": "display_data"
    }
   ],
   "source": [
    "# 加载所需的R包\n",
    "library(reticulate)\n",
    "library(jsonlite)\n",
    "library(data.table)\n",
    "library(quanteda)\n",
    "\n",
    "# 使用 Conda 环境\n",
    "use_condaenv(\"agent\", required = TRUE)\n",
    "\n",
    "# 检查是否正确设置了 Python 环境\n",
    "py_config()\n",
    "\n",
    "# 读取文件夹中的所有txt文件\n",
    "file_list <- list.files(path = \"F:/Paper_goal/MKT_research/RA/PKU-park/dropbox/LIWC/Study 3/data\", pattern = \"*.txt\", full.names = TRUE)\n",
    "study3 <- data.table()\n",
    "\n",
    "for (file in file_list) {\n",
    "  text <- readLines(file, warn = FALSE)\n",
    "  text <- paste(text, collapse = \" \")\n",
    "  study3 <- rbind(study3, data.table(Tweet = text, FileName = basename(file)))\n",
    "}\n",
    "\n",
    "# 读取并清理Brysbaert具体性分数\n",
    "brysbaert <- read.table(file = 'F:/Paper_goal/MKT_research/RA/PKU-park/dropbox/LIWC/R_Functions/brysbaert.txt', sep = '\\t', header = TRUE)\n",
    "brysbaert$Conc.M <- as.numeric(brysbaert$Conc.M)  # 确保Conc.M列是数值类型\n",
    "brysbaert <- brysbaert[!is.na(brysbaert$Conc.M), ]\n",
    "\n",
    "# 计算BCI值的函数\n",
    "brysbaert.calculator <- function(text, keep){\n",
    "  text <- as.character(text)\n",
    "  brys.output <- as.data.frame(matrix(NA,\n",
    "                                      ncol = 3,\n",
    "                                      nrow = length(text)))\n",
    "  colnames(brys.output) <- c(\"newtext\", \"wc\", \"bryscore\")\n",
    "  brys.output$bryscore <- 0\n",
    "  for (i in 1:length(text)){\n",
    "    if (i %% 100 == 0){\n",
    "      print(paste0(i,\" done\"))\n",
    "    }\n",
    "    words <- strsplit(text[i], \" \")[[1]]\n",
    "    words <- sapply(words, tolower)\n",
    "    brys.output$newtext[i] <- paste(words[words %in% keep],\n",
    "                                    collapse = \" \")\n",
    "    words <- strsplit(brys.output$newtext[i], \" \")[[1]]\n",
    "    for (w in words){\n",
    "      index <- which(!is.na(match(brysbaert$Word, w)))\n",
    "      weight <- brysbaert$Conc.M[index]\n",
    "      brys.output$bryscore[i] <- brys.output$bryscore[i] + weight\n",
    "    }\n",
    "  }\n",
    "  bryscorpus <- corpus(brys.output$newtext)\n",
    "  brystokens <- tokens(bryscorpus)\n",
    "  brysdfm <- dfm(brystokens)\n",
    "  brys.output$wc <- rowSums(brysdfm)\n",
    "  brys.output$bryscore <- brys.output$bryscore / brys.output$wc\n",
    "  return(brys.output$bryscore)\n",
    "}\n",
    "\n",
    "# 应用到study3数据集\n",
    "study3$bryscore <- brysbaert.calculator(study3$Tweet, brysbaert$Word)\n",
    "study3$bryscorer <- 6 - study3$bryscore\n",
    "study3$zbryscorer <- scale(study3$bryscorer, center = TRUE, scale = TRUE)\n",
    "\n",
    "# 汇总结果到JSON文件\n",
    "results <- list(\n",
    "  bryscorer = study3$bryscorer\n",
    ")\n",
    "\n",
    "write_json(results, path = \"F:/Paper_goal/MKT_research/RA/PKU-park/dropbox/LIWC/Study 3/results.json\")\n"
   ]
  }
 ],
 "metadata": {
  "kernelspec": {
   "display_name": "R",
   "language": "R",
   "name": "ir"
  },
  "language_info": {
   "codemirror_mode": "r",
   "file_extension": ".r",
   "mimetype": "text/x-r-source",
   "name": "R",
   "pygments_lexer": "r",
   "version": "4.4.0"
  }
 },
 "nbformat": 4,
 "nbformat_minor": 2
}
