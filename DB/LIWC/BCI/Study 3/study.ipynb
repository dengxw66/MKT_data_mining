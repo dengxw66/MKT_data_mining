{
 "cells": [
  {
   "cell_type": "code",
   "execution_count": null,
   "metadata": {},
   "outputs": [],
   "source": [
    "import os\n",
    "import json\n",
    "import pandas as pd\n",
    "import numpy as np\n",
    "from tqdm import tqdm\n",
    "from sklearn.preprocessing import StandardScaler\n",
    "from collections import defaultdict\n",
    "\n",
    "# 读取文件夹中的所有txt文件\n",
    "path = \"F:/Paper_goal/MKT_research/RA/PKU-park/dropbox/Crowdfunding/main_description_new_rerun_20110920_20130920/main_description_full\"\n",
    "file_list = [os.path.join(path, file) for file in os.listdir(path) if file.endswith('.txt')]\n",
    "\n",
    "data = []\n",
    "\n",
    "# 创建进度条\n",
    "for file in tqdm(file_list, desc=\"读取文件\"):\n",
    "    with open(file, 'r', encoding='utf-8', errors='ignore') as f:\n",
    "        text = f.read().replace('\\n', ' ')\n",
    "        data.append({'Tweet': text, 'FileName': os.path.basename(file)})\n",
    "\n",
    "study3 = pd.DataFrame(data)\n",
    "\n",
    "# 读取并清理Brysbaert具体性分数\n",
    "brysbaert = pd.read_csv('F:/Paper_goal/MKT_research/RA/PKU-park/dropbox/LIWC/R_Functions/brysbaert.txt', sep='\\t')\n",
    "brysbaert['Conc.M'] = pd.to_numeric(brysbaert['Conc.M'], errors='coerce')\n",
    "brysbaert = brysbaert.dropna(subset=['Conc.M'])\n",
    "\n",
    "# 计算BCI值的函数\n",
    "def brysbaert_calculator(texts, keep):\n",
    "    scores = []\n",
    "    for text in tqdm(texts, desc=\"计算BCI值\"):\n",
    "        words = text.lower().split()\n",
    "        filtered_words = [word for word in words if word in keep]\n",
    "        bryscore = sum(brysbaert.loc[brysbaert['Word'].isin(filtered_words), 'Conc.M'])\n",
    "        word_count = len(filtered_words)\n",
    "        if word_count > 0:\n",
    "            bryscore /= word_count\n",
    "        scores.append(bryscore)\n",
    "    return scores\n",
    "\n",
    "# 应用到study3数据集\n",
    "study3['bryscore'] = brysbaert_calculator(study3['Tweet'], brysbaert['Word'].tolist())\n",
    "study3['bryscorer'] = 6 - study3['bryscore']\n",
    "\n",
    "# 标准化bryscorer\n",
    "scaler = StandardScaler()\n",
    "study3['zbryscorer'] = scaler.fit_transform(study3[['bryscorer']])\n",
    "\n",
    "# 汇总结果到JSON文件，包含文件名和BCI分数\n",
    "results = defaultdict(dict)\n",
    "for _, row in study3.iterrows():\n",
    "    results[row['FileName']] = {'bryscorer': row['bryscorer']}\n",
    "\n",
    "with open(\"F:/Paper_goal/MKT_research/RA/PKU-park/dropbox/LIWC/Study 3/results_all.json\", 'w') as json_file:\n",
    "    json.dump(results, json_file, ensure_ascii=False, indent=4)\n"
   ]
  },
  {
   "cell_type": "code",
   "execution_count": null,
   "metadata": {},
   "outputs": [],
   "source": []
  },
  {
   "cell_type": "code",
   "execution_count": null,
   "metadata": {},
   "outputs": [],
   "source": []
  }
 ],
 "metadata": {
  "language_info": {
   "name": "python"
  }
 },
 "nbformat": 4,
 "nbformat_minor": 2
}
