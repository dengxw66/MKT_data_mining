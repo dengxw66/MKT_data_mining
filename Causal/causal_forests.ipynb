{
 "cells": [
  {
   "cell_type": "code",
   "execution_count": 1,
   "metadata": {},
   "outputs": [],
   "source": [
    "import pandas as pd\n",
    "import numpy as np\n",
    "from sklearn.ensemble import RandomForestClassifier, RandomForestRegressor\n",
    "from sklearn.model_selection import train_test_split\n",
    "\n",
    "# 假设已经加载生成的数据\n",
    "data = pd.read_csv('data_200_samples.csv')"
   ]
  },
  {
   "cell_type": "code",
   "execution_count": 2,
   "metadata": {},
   "outputs": [],
   "source": [
    "# 1）将特征X送入随机森林训练估计每个样本的倾向评分。然后根据倾向评分进行样本匹配，控制治疗组和对照组协变量一致。\n",
    "X = data[['X1', 'X2', 'X3']]\n",
    "W = data['W']\n",
    "\n",
    "# 使用随机森林分类器估计倾向评分\n",
    "ps_model = RandomForestClassifier(n_estimators=100, random_state=42)\n",
    "ps_model.fit(X, W)\n",
    "data['e'] = ps_model.predict_proba(X)[:, 1]\n"
   ]
  },
  {
   "cell_type": "code",
   "execution_count": 3,
   "metadata": {},
   "outputs": [],
   "source": [
    "# 2）通过将特征x送入随机森林，估计没有治疗情况下的潜在结果。\n",
    "# 使用随机森林回归器估计潜在结果\n",
    "y0_model = RandomForestRegressor(n_estimators=100, random_state=42)\n",
    "y1_model = RandomForestRegressor(n_estimators=100, random_state=42)\n",
    "\n",
    "# 根据未接受治疗（W=0）的样本训练潜在结果模型\n",
    "y0_model.fit(X[W == 0], data[W == 0]['Y'])\n",
    "# 根据接受治疗（W=1）的样本训练潜在结果模型\n",
    "y1_model.fit(X[W == 1], data[W == 1]['Y'])\n",
    "\n",
    "# 估计每个样本的潜在结果\n",
    "data['m0'] = y0_model.predict(X)\n",
    "data['m1'] = y1_model.predict(X)"
   ]
  },
  {
   "cell_type": "code",
   "execution_count": 4,
   "metadata": {},
   "outputs": [
    {
     "name": "stdout",
     "output_type": "stream",
     "text": [
      "Estimated CATE: 1.1066073910483005\n"
     ]
    }
   ],
   "source": [
    "# 3）然后将估计得到的样本倾向评分和潜在结果代入R-learner公式（保证双重稳健因果效应），并化为回归最小化问题，从而估计出CATE治疗效果。最后进行讨论验证，如对不同子群体验证异质性等。\n",
    "# 计算双重稳健因果效应估计值\n",
    "data['DR'] = ((data['W'] / data['e'] - (1 - data['W']) / (1 - data['e'])) * \n",
    "              (data['Y'] - data['W'] * data['m1'] - (1 - data['W']) * data['m0']) + \n",
    "              data['m1'] - data['m0'])\n",
    "\n",
    "# 计算平均治疗效果（CATE）\n",
    "CATE_estimate = data['DR'].mean()\n",
    "\n",
    "# 打印估计的CATE\n",
    "print(f'Estimated CATE: {CATE_estimate}')"
   ]
  },
  {
   "cell_type": "code",
   "execution_count": 5,
   "metadata": {},
   "outputs": [
    {
     "name": "stdout",
     "output_type": "stream",
     "text": [
      "Subgroup CATE estimate (X1 > median): 1.1345554679026002\n"
     ]
    }
   ],
   "source": [
    "# 进一步的验证，如子群分析，验证异质性\n",
    "# 例如，针对特定子群（如X1大于中位数的样本）计算CATE\n",
    "subgroup = data[data['X1'] > data['X1'].median()]\n",
    "subgroup_CATE_estimate = subgroup['DR'].mean()\n",
    "print(f'Subgroup CATE estimate (X1 > median): {subgroup_CATE_estimate}')\n"
   ]
  }
 ],
 "metadata": {
  "kernelspec": {
   "display_name": "agent",
   "language": "python",
   "name": "python3"
  },
  "language_info": {
   "codemirror_mode": {
    "name": "ipython",
    "version": 3
   },
   "file_extension": ".py",
   "mimetype": "text/x-python",
   "name": "python",
   "nbconvert_exporter": "python",
   "pygments_lexer": "ipython3",
   "version": "3.8.19"
  }
 },
 "nbformat": 4,
 "nbformat_minor": 2
}
